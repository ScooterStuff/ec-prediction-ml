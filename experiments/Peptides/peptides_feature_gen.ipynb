{
 "cells": [
  {
   "cell_type": "code",
   "execution_count": 7,
   "metadata": {},
   "outputs": [],
   "source": [
    "import pandas as pd\n",
    "import numpy as np"
   ]
  },
  {
   "cell_type": "code",
   "execution_count": 3,
   "metadata": {},
   "outputs": [
    {
     "data": {
      "text/html": [
       "<div>\n",
       "<style scoped>\n",
       "    .dataframe tbody tr th:only-of-type {\n",
       "        vertical-align: middle;\n",
       "    }\n",
       "\n",
       "    .dataframe tbody tr th {\n",
       "        vertical-align: top;\n",
       "    }\n",
       "\n",
       "    .dataframe thead th {\n",
       "        text-align: right;\n",
       "    }\n",
       "</style>\n",
       "<table border=\"1\" class=\"dataframe\">\n",
       "  <thead>\n",
       "    <tr style=\"text-align: right;\">\n",
       "      <th></th>\n",
       "      <th>accession</th>\n",
       "      <th>data</th>\n",
       "    </tr>\n",
       "  </thead>\n",
       "  <tbody>\n",
       "    <tr>\n",
       "      <th>0</th>\n",
       "      <td>Q7VRM4</td>\n",
       "      <td>[{'AF1': np.float64(-0.029280837170417996), 'A...</td>\n",
       "    </tr>\n",
       "    <tr>\n",
       "      <th>1</th>\n",
       "      <td>A4XK06</td>\n",
       "      <td>[{'AF1': np.float64(0.03188040579310344), 'AF2...</td>\n",
       "    </tr>\n",
       "    <tr>\n",
       "      <th>2</th>\n",
       "      <td>Q8KCJ4</td>\n",
       "      <td>[{'AF1': np.float64(0.0006003332371794853), 'A...</td>\n",
       "    </tr>\n",
       "    <tr>\n",
       "      <th>3</th>\n",
       "      <td>Q9VR91</td>\n",
       "      <td>[{'AF1': np.float64(-0.06987503646376221), 'AF...</td>\n",
       "    </tr>\n",
       "    <tr>\n",
       "      <th>4</th>\n",
       "      <td>O95714</td>\n",
       "      <td>[{'AF1': np.float64(-0.041783012581712874), 'A...</td>\n",
       "    </tr>\n",
       "    <tr>\n",
       "      <th>...</th>\n",
       "      <td>...</td>\n",
       "      <td>...</td>\n",
       "    </tr>\n",
       "    <tr>\n",
       "      <th>110217</th>\n",
       "      <td>Q9SR96</td>\n",
       "      <td>[{'AF1': np.float64(0.0820327897027972), 'AF2'...</td>\n",
       "    </tr>\n",
       "    <tr>\n",
       "      <th>110218</th>\n",
       "      <td>Q7YR37</td>\n",
       "      <td>[{'AF1': np.float64(0.27752947566294917), 'AF2...</td>\n",
       "    </tr>\n",
       "    <tr>\n",
       "      <th>110219</th>\n",
       "      <td>Q9FM10</td>\n",
       "      <td>[{'AF1': np.float64(-0.28680616929166663), 'AF...</td>\n",
       "    </tr>\n",
       "    <tr>\n",
       "      <th>110220</th>\n",
       "      <td>P42165</td>\n",
       "      <td>[{'AF1': np.float64(0.01594493238341967), 'AF2...</td>\n",
       "    </tr>\n",
       "    <tr>\n",
       "      <th>110221</th>\n",
       "      <td>Q9NR80</td>\n",
       "      <td>[{'AF1': np.float64(0.12269997394202899), 'AF2...</td>\n",
       "    </tr>\n",
       "  </tbody>\n",
       "</table>\n",
       "<p>110222 rows × 2 columns</p>\n",
       "</div>"
      ],
      "text/plain": [
       "       accession                                               data\n",
       "0         Q7VRM4  [{'AF1': np.float64(-0.029280837170417996), 'A...\n",
       "1         A4XK06  [{'AF1': np.float64(0.03188040579310344), 'AF2...\n",
       "2         Q8KCJ4  [{'AF1': np.float64(0.0006003332371794853), 'A...\n",
       "3         Q9VR91  [{'AF1': np.float64(-0.06987503646376221), 'AF...\n",
       "4         O95714  [{'AF1': np.float64(-0.041783012581712874), 'A...\n",
       "...          ...                                                ...\n",
       "110217    Q9SR96  [{'AF1': np.float64(0.0820327897027972), 'AF2'...\n",
       "110218    Q7YR37  [{'AF1': np.float64(0.27752947566294917), 'AF2...\n",
       "110219    Q9FM10  [{'AF1': np.float64(-0.28680616929166663), 'AF...\n",
       "110220    P42165  [{'AF1': np.float64(0.01594493238341967), 'AF2...\n",
       "110221    Q9NR80  [{'AF1': np.float64(0.12269997394202899), 'AF2...\n",
       "\n",
       "[110222 rows x 2 columns]"
      ]
     },
     "execution_count": 3,
     "metadata": {},
     "output_type": "execute_result"
    }
   ],
   "source": [
    "pp_df = pd.read_csv(\"../../dataset/peptides/seq_feats.csv\")\n",
    "pp_df = pp_df.drop(columns=['Unnamed: 0'])\n",
    "pp_df"
   ]
  },
  {
   "cell_type": "code",
   "execution_count": null,
   "metadata": {},
   "outputs": [],
   "source": []
  }
 ],
 "metadata": {
  "kernelspec": {
   "display_name": "py310_venv",
   "language": "python",
   "name": "python3"
  },
  "language_info": {
   "codemirror_mode": {
    "name": "ipython",
    "version": 3
   },
   "file_extension": ".py",
   "mimetype": "text/x-python",
   "name": "python",
   "nbconvert_exporter": "python",
   "pygments_lexer": "ipython3",
   "version": "3.10.14"
  }
 },
 "nbformat": 4,
 "nbformat_minor": 2
}
