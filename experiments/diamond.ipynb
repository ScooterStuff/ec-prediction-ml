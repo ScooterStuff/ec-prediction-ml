{
 "cells": [
  {
   "cell_type": "markdown",
   "metadata": {},
   "source": [
    "### import libs\n",
    "+ Note: sometimes when you update uitl functions, re-run import may not load your change\n",
    "+ Try restart kernal."
   ]
  },
  {
   "cell_type": "code",
   "execution_count": 1,
   "metadata": {},
   "outputs": [],
   "source": [
    "import pandas as pd\n",
    "import sys\n",
    "import nest_asyncio\n",
    "import itertools\n",
    "import os\n",
    "nest_asyncio.apply() # for fetch_ec_improved to run in jupyter notebook\n",
    "\n",
    "from EC40_loader import EC40_loader\n",
    "\n",
    "from fetch_ec_improved import fetch_ec_async\n",
    "from evaluate_ec import evaluate_ec\n",
    "from abstracts.AbstractDataLoader import AbstractDataLoader\n",
    "from Diamond.DiamondFeatureEngineer import DiamondFeatureEngineer\n",
    "from Diamond.DiamondPredictor import DiamondPredictor\n",
    "import constants\n",
    "import numpy as np"
   ]
  },
  {
   "cell_type": "markdown",
   "metadata": {},
   "source": [
    "### File Paths"
   ]
  },
  {
   "cell_type": "code",
   "execution_count": 2,
   "metadata": {},
   "outputs": [],
   "source": [
    "ec40_path = \"../dataset/ec40\"\n",
    "diamond_results_path = \"../dataset/diamond_results\"\n",
    "ec_results_file = \"ec_results.csv\"\n",
    "diamond_output_file = \"diamond_output.m8\"\n",
    "filtered_output_file = \"filtered_diamond_output.m8\"\n",
    "evaluate_file = \"evaluation_results.csv\""
   ]
  },
  {
   "cell_type": "markdown",
   "metadata": {},
   "source": [
    "### Load EC40 Dataset"
   ]
  },
  {
   "cell_type": "code",
   "execution_count": 3,
   "metadata": {},
   "outputs": [
    {
     "data": {
      "text/html": [
       "<div>\n",
       "<style scoped>\n",
       "    .dataframe tbody tr th:only-of-type {\n",
       "        vertical-align: middle;\n",
       "    }\n",
       "\n",
       "    .dataframe tbody tr th {\n",
       "        vertical-align: top;\n",
       "    }\n",
       "\n",
       "    .dataframe thead th {\n",
       "        text-align: right;\n",
       "    }\n",
       "</style>\n",
       "<table border=\"1\" class=\"dataframe\">\n",
       "  <thead>\n",
       "    <tr style=\"text-align: right;\">\n",
       "      <th></th>\n",
       "      <th>accession</th>\n",
       "      <th>sequence</th>\n",
       "      <th>ec</th>\n",
       "      <th>traintest</th>\n",
       "      <th>negative_for</th>\n",
       "      <th>mainclass_set</th>\n",
       "      <th>sprot_version</th>\n",
       "      <th>len</th>\n",
       "      <th>cluster_ID</th>\n",
       "      <th>representative</th>\n",
       "    </tr>\n",
       "  </thead>\n",
       "  <tbody>\n",
       "    <tr>\n",
       "      <th>0</th>\n",
       "      <td>Q7VRM4</td>\n",
       "      <td>MQAKILRIATRKSPLAICQACYVCNKLKHYHPHIQTELIPIITTGD...</td>\n",
       "      <td>['2.5.1.61']</td>\n",
       "      <td>0</td>\n",
       "      <td>NaN</td>\n",
       "      <td>Transferases</td>\n",
       "      <td>2017_03</td>\n",
       "      <td>1</td>\n",
       "      <td>cdhit40.fasta_410186</td>\n",
       "      <td>False</td>\n",
       "    </tr>\n",
       "    <tr>\n",
       "      <th>1</th>\n",
       "      <td>A4XK06</td>\n",
       "      <td>MKKLRIGARDSKLSRIQVDIVARKIKQTLGIECEFVPIKTKGDIDK...</td>\n",
       "      <td>['2.5.1.61']</td>\n",
       "      <td>0</td>\n",
       "      <td>NaN</td>\n",
       "      <td>Transferases</td>\n",
       "      <td>2017_03</td>\n",
       "      <td>1</td>\n",
       "      <td>cdhit40.fasta_171115</td>\n",
       "      <td>False</td>\n",
       "    </tr>\n",
       "    <tr>\n",
       "      <th>2</th>\n",
       "      <td>Q8KCJ4</td>\n",
       "      <td>MKKELIIGTRSSPLALWQAEFTKAELSRHFPELNITLKLVKTTGDV...</td>\n",
       "      <td>['2.5.1.61']</td>\n",
       "      <td>0</td>\n",
       "      <td>NaN</td>\n",
       "      <td>Transferases</td>\n",
       "      <td>2017_03</td>\n",
       "      <td>1</td>\n",
       "      <td>cdhit40.fasta_410186</td>\n",
       "      <td>False</td>\n",
       "    </tr>\n",
       "    <tr>\n",
       "      <th>3</th>\n",
       "      <td>Q9VR91</td>\n",
       "      <td>MFNRQASGGAGSSGQGAGSSQTASAAPVSAGVGVGGGGGASGAAAG...</td>\n",
       "      <td>['2.3.2.26']</td>\n",
       "      <td>0</td>\n",
       "      <td>NaN</td>\n",
       "      <td>Transferases</td>\n",
       "      <td>2017_03</td>\n",
       "      <td>1</td>\n",
       "      <td>cdhit40.fasta_134383</td>\n",
       "      <td>True</td>\n",
       "    </tr>\n",
       "    <tr>\n",
       "      <th>4</th>\n",
       "      <td>O95714</td>\n",
       "      <td>MPSESFCLAAQARLDSKWLKTDIQLAFTRDGLCGLWNEMVKDGEIV...</td>\n",
       "      <td>['2.3.2.26']</td>\n",
       "      <td>0</td>\n",
       "      <td>NaN</td>\n",
       "      <td>Transferases</td>\n",
       "      <td>2017_03</td>\n",
       "      <td>1</td>\n",
       "      <td>cdhit40.fasta_42431</td>\n",
       "      <td>False</td>\n",
       "    </tr>\n",
       "    <tr>\n",
       "      <th>...</th>\n",
       "      <td>...</td>\n",
       "      <td>...</td>\n",
       "      <td>...</td>\n",
       "      <td>...</td>\n",
       "      <td>...</td>\n",
       "      <td>...</td>\n",
       "      <td>...</td>\n",
       "      <td>...</td>\n",
       "      <td>...</td>\n",
       "      <td>...</td>\n",
       "    </tr>\n",
       "    <tr>\n",
       "      <th>55125</th>\n",
       "      <td>Q54944</td>\n",
       "      <td>MANIVNFTDKQFENRLNDNLEELIQGKKAVESPTAFLLGGQPGSGK...</td>\n",
       "      <td>['2.7.1.176']</td>\n",
       "      <td>1</td>\n",
       "      <td>NaN</td>\n",
       "      <td>Transferases</td>\n",
       "      <td>2017_03</td>\n",
       "      <td>1</td>\n",
       "      <td>cdhit40.fasta_18384</td>\n",
       "      <td>False</td>\n",
       "    </tr>\n",
       "    <tr>\n",
       "      <th>55126</th>\n",
       "      <td>Q9T080</td>\n",
       "      <td>MGGLKFHVLMYPWFATGHMTPFLFLANKLAEKGHTVTFLIPKKALK...</td>\n",
       "      <td>['2.4.1.-']</td>\n",
       "      <td>1</td>\n",
       "      <td>NaN</td>\n",
       "      <td>Transferases</td>\n",
       "      <td>2017_03</td>\n",
       "      <td>1</td>\n",
       "      <td>cdhit40.fasta_405900</td>\n",
       "      <td>False</td>\n",
       "    </tr>\n",
       "    <tr>\n",
       "      <th>55127</th>\n",
       "      <td>Q03VR7</td>\n",
       "      <td>MAQTIDIANPTRTQAILNEYGLRAKKKFGQNFLTDLNVLHNIVEAA...</td>\n",
       "      <td>['2.1.1.182']</td>\n",
       "      <td>1</td>\n",
       "      <td>NaN</td>\n",
       "      <td>Transferases</td>\n",
       "      <td>2017_03</td>\n",
       "      <td>1</td>\n",
       "      <td>cdhit40.fasta_32179</td>\n",
       "      <td>False</td>\n",
       "    </tr>\n",
       "    <tr>\n",
       "      <th>55128</th>\n",
       "      <td>A0LH38</td>\n",
       "      <td>MSKLVPPHGKEKKLKPLLLEGAALAAEKEKAKTLKVVPMTSREASD...</td>\n",
       "      <td>['2.7.7.4']</td>\n",
       "      <td>1</td>\n",
       "      <td>NaN</td>\n",
       "      <td>Transferases</td>\n",
       "      <td>2017_03</td>\n",
       "      <td>1</td>\n",
       "      <td>cdhit40.fasta_437049</td>\n",
       "      <td>False</td>\n",
       "    </tr>\n",
       "    <tr>\n",
       "      <th>55129</th>\n",
       "      <td>Q2SIN4</td>\n",
       "      <td>MIAWVERVWYGGSRWKFLLWPLSWLYLLVVAIRKTLFAVIKSSASE...</td>\n",
       "      <td>['2.7.1.130']</td>\n",
       "      <td>1</td>\n",
       "      <td>NaN</td>\n",
       "      <td>Transferases</td>\n",
       "      <td>2017_03</td>\n",
       "      <td>1</td>\n",
       "      <td>cdhit40.fasta_99286</td>\n",
       "      <td>False</td>\n",
       "    </tr>\n",
       "  </tbody>\n",
       "</table>\n",
       "<p>54529 rows × 10 columns</p>\n",
       "</div>"
      ],
      "text/plain": [
       "      accession                                           sequence  \\\n",
       "0        Q7VRM4  MQAKILRIATRKSPLAICQACYVCNKLKHYHPHIQTELIPIITTGD...   \n",
       "1        A4XK06  MKKLRIGARDSKLSRIQVDIVARKIKQTLGIECEFVPIKTKGDIDK...   \n",
       "2        Q8KCJ4  MKKELIIGTRSSPLALWQAEFTKAELSRHFPELNITLKLVKTTGDV...   \n",
       "3        Q9VR91  MFNRQASGGAGSSGQGAGSSQTASAAPVSAGVGVGGGGGASGAAAG...   \n",
       "4        O95714  MPSESFCLAAQARLDSKWLKTDIQLAFTRDGLCGLWNEMVKDGEIV...   \n",
       "...         ...                                                ...   \n",
       "55125    Q54944  MANIVNFTDKQFENRLNDNLEELIQGKKAVESPTAFLLGGQPGSGK...   \n",
       "55126    Q9T080  MGGLKFHVLMYPWFATGHMTPFLFLANKLAEKGHTVTFLIPKKALK...   \n",
       "55127    Q03VR7  MAQTIDIANPTRTQAILNEYGLRAKKKFGQNFLTDLNVLHNIVEAA...   \n",
       "55128    A0LH38  MSKLVPPHGKEKKLKPLLLEGAALAAEKEKAKTLKVVPMTSREASD...   \n",
       "55129    Q2SIN4  MIAWVERVWYGGSRWKFLLWPLSWLYLLVVAIRKTLFAVIKSSASE...   \n",
       "\n",
       "                  ec  traintest negative_for mainclass_set sprot_version  len  \\\n",
       "0       ['2.5.1.61']          0          NaN  Transferases       2017_03    1   \n",
       "1       ['2.5.1.61']          0          NaN  Transferases       2017_03    1   \n",
       "2       ['2.5.1.61']          0          NaN  Transferases       2017_03    1   \n",
       "3       ['2.3.2.26']          0          NaN  Transferases       2017_03    1   \n",
       "4       ['2.3.2.26']          0          NaN  Transferases       2017_03    1   \n",
       "...              ...        ...          ...           ...           ...  ...   \n",
       "55125  ['2.7.1.176']          1          NaN  Transferases       2017_03    1   \n",
       "55126    ['2.4.1.-']          1          NaN  Transferases       2017_03    1   \n",
       "55127  ['2.1.1.182']          1          NaN  Transferases       2017_03    1   \n",
       "55128    ['2.7.7.4']          1          NaN  Transferases       2017_03    1   \n",
       "55129  ['2.7.1.130']          1          NaN  Transferases       2017_03    1   \n",
       "\n",
       "                 cluster_ID  representative  \n",
       "0      cdhit40.fasta_410186           False  \n",
       "1      cdhit40.fasta_171115           False  \n",
       "2      cdhit40.fasta_410186           False  \n",
       "3      cdhit40.fasta_134383            True  \n",
       "4       cdhit40.fasta_42431           False  \n",
       "...                     ...             ...  \n",
       "55125   cdhit40.fasta_18384           False  \n",
       "55126  cdhit40.fasta_405900           False  \n",
       "55127   cdhit40.fasta_32179           False  \n",
       "55128  cdhit40.fasta_437049           False  \n",
       "55129   cdhit40.fasta_99286           False  \n",
       "\n",
       "[54529 rows x 10 columns]"
      ]
     },
     "metadata": {},
     "output_type": "display_data"
    },
    {
     "name": "stdout",
     "output_type": "stream",
     "text": [
      "Warning: 2622 cluster(s) appear in both train & test.\n",
      "Removed 2622 cluster(s) from train_val_data to avoid overlap with test.\n",
      "train: 30967\n",
      "valid: 4921\n",
      "test: 5459\n"
     ]
    }
   ],
   "source": [
    "ec40_loader = EC40_loader(_dir=ec40_path)\n",
    "ec40_loader.set_source_file(\"ec40.csv\")\n",
    "processed_ec40 = ec40_loader.preprocess()\n",
    "display(processed_ec40)\n",
    "ec40_train, ec40_valid, ec40_test = ec40_loader.train_test_split(processed_ec40)"
   ]
  },
  {
   "cell_type": "markdown",
   "metadata": {},
   "source": [
    "### Prepare fatsa sequence"
   ]
  },
  {
   "cell_type": "code",
   "execution_count": 4,
   "metadata": {},
   "outputs": [
    {
     "name": "stdout",
     "output_type": "stream",
     "text": [
      "Found 30967 sequences.\n",
      "Finished writting to ../dataset/ec40/train.fasta\n",
      "Found 4921 sequences.\n",
      "Finished writting to ../dataset/ec40/valid.fasta\n",
      "Found 5459 sequences.\n",
      "Finished writting to ../dataset/ec40/test.fasta\n"
     ]
    }
   ],
   "source": [
    "train_fasta_path = ec40_loader.get_fasta(\"train\")\n",
    "valid_fasta_path = ec40_loader.get_fasta(\"valid\")\n",
    "test_fasta_path = ec40_loader.get_fasta(\"test\")"
   ]
  },
  {
   "cell_type": "markdown",
   "metadata": {},
   "source": [
    "### Dimond Query - Feature Engineering"
   ]
  },
  {
   "cell_type": "markdown",
   "metadata": {},
   "source": [
    "Download DIMOND\n",
    "+ if not downloaded, uncomment below (linux version)"
   ]
  },
  {
   "cell_type": "code",
   "execution_count": 4,
   "metadata": {},
   "outputs": [],
   "source": [
    "# linux\n",
    "# !wget http://github.com/bbuchfink/diamond/releases/download/v2.0.4/diamond-linux64.tar.gz\n",
    "# !tar xzf diamond-linux64.tar.gz"
   ]
  },
  {
   "cell_type": "markdown",
   "metadata": {},
   "source": [
    "Prepare DIMOND Database Folder\n",
    "+ if not downloaded, uncomment below"
   ]
  },
  {
   "cell_type": "code",
   "execution_count": 5,
   "metadata": {},
   "outputs": [],
   "source": [
    "# !mkdir ../dataset/dimond_db/\n",
    "# %cd ../dataset/dimond_db/"
   ]
  },
  {
   "cell_type": "markdown",
   "metadata": {},
   "source": [
    "Download UniRef90\n",
    "+ if not downloaded, uncomment below"
   ]
  },
  {
   "cell_type": "code",
   "execution_count": 6,
   "metadata": {},
   "outputs": [],
   "source": [
    "# !wget ftp://ftp.uniprot.org/pub/databases/uniprot/current_release/uniref/uniref90/uniref90.fasta.gz"
   ]
  },
  {
   "cell_type": "code",
   "execution_count": 7,
   "metadata": {},
   "outputs": [],
   "source": [
    "# %cd ../../experiments"
   ]
  },
  {
   "cell_type": "markdown",
   "metadata": {},
   "source": [
    "Generate Database\n",
    "+ it takes roughly 45 mins for 24 cpu threads\n",
    "+ if not generated uncomment below"
   ]
  },
  {
   "cell_type": "code",
   "execution_count": 8,
   "metadata": {},
   "outputs": [],
   "source": [
    "# !diamond makedb --in ../dataset/dimond_db/uniref90.fasta.gz -d ../dataset/dimond_db/uniref90.dmnd"
   ]
  },
  {
   "cell_type": "markdown",
   "metadata": {},
   "source": [
    "Run DIAMOND search \n",
    "+ 30 mins for all test_sequences\n",
    "+ DIAMOND Output format\n",
    "\n",
    "            qseqid means Query Seq-id\n",
    "           sseqid means Subject Seq-id\n",
    "           pident means Percentage of identical matches\n",
    "           length means Alignment length\n",
    "         mismatch means Number of mismatches\n",
    "          gapopen means Number of gap openings\n",
    "           qstart means Start of alignment in query\n",
    "             qend means End of alignment in query\n",
    "           sstart means Start of alignment in subject\n",
    "             send means End of alignment in subject\n",
    "           evalue means Expect value\n",
    "         bitscore means Bit score"
   ]
  },
  {
   "cell_type": "code",
   "execution_count": 5,
   "metadata": {},
   "outputs": [
    {
     "name": "stdout",
     "output_type": "stream",
     "text": [
      "../dataset/ec40/test.fasta\n",
      "../dataset/diamond_results/test_diamond_output.m8\n"
     ]
    }
   ],
   "source": [
    "test_diamond_output_file = os.path.join(diamond_results_path, f\"test_{diamond_output_file}\")\n",
    "print(test_fasta_path)\n",
    "print(test_diamond_output_file)"
   ]
  },
  {
   "cell_type": "code",
   "execution_count": 12,
   "metadata": {},
   "outputs": [],
   "source": [
    "# !diamond blastp --db ../dataset/dimond_db/uniref90.dmnd \\\n",
    "#                 --query $test_fasta_path \\\n",
    "#                 --out $test_diamond_output_file \\\n",
    "#                 --quiet"
   ]
  },
  {
   "cell_type": "code",
   "execution_count": 16,
   "metadata": {},
   "outputs": [
    {
     "name": "stdout",
     "output_type": "stream",
     "text": [
      "Q8EB91\tUniRef90_Q8EB91\t100.0\t274\t0\t0\t1\t274\t1\t274\t4.3e-160\t573.5\n",
      "Q8EB91\tUniRef90_UPI001C65D99A\t87.2\t274\t35\t0\t1\t274\t1\t274\t3.1e-142\t514.2\n",
      "Q8EB91\tUniRef90_A0A2M7HU62\t85.8\t274\t39\t0\t1\t274\t1\t274\t4.9e-140\t506.9\n",
      "Q8EB91\tUniRef90_A3D186\t84.3\t274\t43\t0\t1\t274\t1\t274\t1.1e-136\t495.7\n",
      "Q8EB91\tUniRef90_A1RMV0\t83.9\t274\t44\t0\t1\t274\t1\t274\t1.5e-136\t495.4\n",
      "Q8EB91\tUniRef90_A0A1N6ZPP1\t82.8\t274\t47\t0\t1\t274\t1\t274\t3.1e-134\t487.6\n",
      "Q8EB91\tUniRef90_A0A972FYA5\t71.8\t273\t77\t0\t1\t273\t1\t273\t5.5e-115\t423.7\n",
      "Q8EB91\tUniRef90_A0A6G7LV78\t72.2\t273\t75\t1\t1\t273\t1\t272\t7.9e-114\t419.9\n",
      "Q8EB91\tUniRef90_UPI0037355830\t72.3\t271\t75\t0\t1\t271\t1\t271\t1.0e-113\t419.5\n",
      "Q8EB91\tUniRef90_Q07YJ6\t69.4\t271\t83\t0\t1\t271\t1\t271\t6.2e-111\t410.2\n"
     ]
    }
   ],
   "source": [
    "!head $test_diamond_output_file"
   ]
  },
  {
   "cell_type": "code",
   "execution_count": 17,
   "metadata": {},
   "outputs": [
    {
     "name": "stdout",
     "output_type": "stream",
     "text": [
      "finished writting 476 query to ../dataset/diamond_results/filtered_test.csv\n"
     ]
    }
   ],
   "source": [
    "diamond_loader = AbstractDataLoader(diamond_results_path)\n",
    "diamond_loader.test_path = test_diamond_output_file\n",
    "diamond_fe = DiamondFeatureEngineer(diamond_results_path, diamond_loader, prefix=\"filtered\")\n",
    "diamond_fe.apply_feature_engineering(\"test\")"
   ]
  },
  {
   "cell_type": "markdown",
   "metadata": {},
   "source": [
    "### Fetch EC number from UniProt API - Generate Prediction"
   ]
  },
  {
   "cell_type": "code",
   "execution_count": 19,
   "metadata": {},
   "outputs": [
    {
     "name": "stdout",
     "output_type": "stream",
     "text": [
      "Parsing DIAMOND output and fetching EC numbers concurrently...\n"
     ]
    },
    {
     "name": "stderr",
     "output_type": "stream",
     "text": [
      "Processing queries: 100%|██████████| 476/476 [00:06<00:00, 73.72it/s] "
     ]
    },
    {
     "name": "stdout",
     "output_type": "stream",
     "text": [
      "Saving results to CSV...\n",
      "Results saved to '../dataset/diamond_results/ec_results.csv'\n"
     ]
    },
    {
     "name": "stderr",
     "output_type": "stream",
     "text": [
      "\n"
     ]
    },
    {
     "data": {
      "text/html": [
       "<div>\n",
       "<style scoped>\n",
       "    .dataframe tbody tr th:only-of-type {\n",
       "        vertical-align: middle;\n",
       "    }\n",
       "\n",
       "    .dataframe tbody tr th {\n",
       "        vertical-align: top;\n",
       "    }\n",
       "\n",
       "    .dataframe thead th {\n",
       "        text-align: right;\n",
       "    }\n",
       "</style>\n",
       "<table border=\"1\" class=\"dataframe\">\n",
       "  <thead>\n",
       "    <tr style=\"text-align: right;\">\n",
       "      <th></th>\n",
       "      <th>Query</th>\n",
       "      <th>Subject</th>\n",
       "      <th>EC Number</th>\n",
       "    </tr>\n",
       "  </thead>\n",
       "  <tbody>\n",
       "    <tr>\n",
       "      <th>0</th>\n",
       "      <td>Q9HJS3</td>\n",
       "      <td>UniRef90_A0A497Q6U7</td>\n",
       "      <td>3.1.21.2</td>\n",
       "    </tr>\n",
       "    <tr>\n",
       "      <th>1</th>\n",
       "      <td>P47618</td>\n",
       "      <td>UniRef90_A0AAW6HNF0</td>\n",
       "      <td>6.1.1.19</td>\n",
       "    </tr>\n",
       "    <tr>\n",
       "      <th>2</th>\n",
       "      <td>C0QU23</td>\n",
       "      <td>UniRef90_A0A432ERB0</td>\n",
       "      <td>6.3.4.19</td>\n",
       "    </tr>\n",
       "    <tr>\n",
       "      <th>3</th>\n",
       "      <td>Q75CI5</td>\n",
       "      <td>UniRef90_Q6CQ13</td>\n",
       "      <td>2.3.2.-</td>\n",
       "    </tr>\n",
       "    <tr>\n",
       "      <th>4</th>\n",
       "      <td>Q2GLU6</td>\n",
       "      <td>UniRef90_A0A218KP16</td>\n",
       "      <td>3.1.21.10</td>\n",
       "    </tr>\n",
       "    <tr>\n",
       "      <th>...</th>\n",
       "      <td>...</td>\n",
       "      <td>...</td>\n",
       "      <td>...</td>\n",
       "    </tr>\n",
       "    <tr>\n",
       "      <th>471</th>\n",
       "      <td>Q6DN58</td>\n",
       "      <td>NaN</td>\n",
       "      <td>No EC number found</td>\n",
       "    </tr>\n",
       "    <tr>\n",
       "      <th>472</th>\n",
       "      <td>O94420</td>\n",
       "      <td>NaN</td>\n",
       "      <td>No EC number found</td>\n",
       "    </tr>\n",
       "    <tr>\n",
       "      <th>473</th>\n",
       "      <td>P47490</td>\n",
       "      <td>NaN</td>\n",
       "      <td>No EC number found</td>\n",
       "    </tr>\n",
       "    <tr>\n",
       "      <th>474</th>\n",
       "      <td>Q9Y7U9</td>\n",
       "      <td>NaN</td>\n",
       "      <td>No EC number found</td>\n",
       "    </tr>\n",
       "    <tr>\n",
       "      <th>475</th>\n",
       "      <td>Q10176</td>\n",
       "      <td>NaN</td>\n",
       "      <td>No EC number found</td>\n",
       "    </tr>\n",
       "  </tbody>\n",
       "</table>\n",
       "<p>476 rows × 3 columns</p>\n",
       "</div>"
      ],
      "text/plain": [
       "      Query              Subject           EC Number\n",
       "0    Q9HJS3  UniRef90_A0A497Q6U7            3.1.21.2\n",
       "1    P47618  UniRef90_A0AAW6HNF0            6.1.1.19\n",
       "2    C0QU23  UniRef90_A0A432ERB0            6.3.4.19\n",
       "3    Q75CI5      UniRef90_Q6CQ13             2.3.2.-\n",
       "4    Q2GLU6  UniRef90_A0A218KP16           3.1.21.10\n",
       "..      ...                  ...                 ...\n",
       "471  Q6DN58                  NaN  No EC number found\n",
       "472  O94420                  NaN  No EC number found\n",
       "473  P47490                  NaN  No EC number found\n",
       "474  Q9Y7U9                  NaN  No EC number found\n",
       "475  Q10176                  NaN  No EC number found\n",
       "\n",
       "[476 rows x 3 columns]"
      ]
     },
     "execution_count": 19,
     "metadata": {},
     "output_type": "execute_result"
    }
   ],
   "source": [
    "diamond_pred = DiamondPredictor(predict_path=os.path.join(diamond_results_path, ec_results_file))\n",
    "diamond_pred.predict(diamond_fe.feature_loader.test_path)"
   ]
  },
  {
   "cell_type": "markdown",
   "metadata": {},
   "source": [
    "### Evaluate EC Result"
   ]
  },
  {
   "cell_type": "code",
   "execution_count": 13,
   "metadata": {},
   "outputs": [],
   "source": [
    "# !mkdir ../metrics"
   ]
  },
  {
   "cell_type": "code",
   "execution_count": 25,
   "metadata": {},
   "outputs": [
    {
     "name": "stdout",
     "output_type": "stream",
     "text": [
      "Loading data...\n",
      "Matching predictions...\n"
     ]
    },
    {
     "name": "stderr",
     "output_type": "stream",
     "text": [
      "Matching Predictions:   0%|          | 0/5459 [00:00<?, ?it/s]"
     ]
    },
    {
     "name": "stderr",
     "output_type": "stream",
     "text": [
      "Matching Predictions: 100%|██████████| 5459/5459 [00:00<00:00, 9049.77it/s]\n"
     ]
    },
    {
     "name": "stdout",
     "output_type": "stream",
     "text": [
      "Computing evaluation metrics...\n",
      "Exact Match Accuracy: 4.80%\n",
      "First Number Match Accuracy: 5.57%\n",
      "Per First-Number Accuracy:\n",
      "  EC 3: 96.63%\n",
      "  EC 5: 88.24%\n",
      "  EC 2: 97.33%\n",
      "  EC 1: 94.74%\n",
      "  EC 4: 100.00%\n",
      "  EC 6: 100.00%\n",
      "  EC 7: 0.00%\n",
      "Exact Precision: 1.00, Recall: 0.05, F1-Score: 0.09\n",
      "First Number Precision: 1.00, Recall: 0.06, F1-Score: 0.11\n",
      "Saved results to ../metrics/metrics.csv and ../dataset/diamond_results/test_evaluation_results.csv\n"
     ]
    }
   ],
   "source": [
    "evaluate_ec(diamond_pred.predict_path, constants.METRICS_FILE, os.path.join(diamond_results_path, f\"test_{evaluate_file}\"), ec40_loader.test_path)"
   ]
  },
  {
   "cell_type": "markdown",
   "metadata": {},
   "source": [
    "### Visualize Metrics\n",
    "+ No Prediction: No available diamond alignment result\n",
    "+ No EC number found: No record in uniprot api"
   ]
  },
  {
   "cell_type": "code",
   "execution_count": null,
   "metadata": {},
   "outputs": [
    {
     "data": {
      "text/html": [
       "<div>\n",
       "<style scoped>\n",
       "    .dataframe tbody tr th:only-of-type {\n",
       "        vertical-align: middle;\n",
       "    }\n",
       "\n",
       "    .dataframe tbody tr th {\n",
       "        vertical-align: top;\n",
       "    }\n",
       "\n",
       "    .dataframe thead th {\n",
       "        text-align: right;\n",
       "    }\n",
       "</style>\n",
       "<table border=\"1\" class=\"dataframe\">\n",
       "  <thead>\n",
       "    <tr style=\"text-align: right;\">\n",
       "      <th></th>\n",
       "      <th>Method</th>\n",
       "      <th>Exact Match Accuracy</th>\n",
       "      <th>First Number Match Accuracy</th>\n",
       "      <th>Exact Precision</th>\n",
       "      <th>Exact Recall</th>\n",
       "      <th>Exact F1-Score</th>\n",
       "      <th>First Number Precision</th>\n",
       "      <th>First Number Recall</th>\n",
       "      <th>First Number F1-Score</th>\n",
       "      <th>No EC number found</th>\n",
       "      <th>No Prediction</th>\n",
       "      <th>EC 1</th>\n",
       "      <th>EC 2</th>\n",
       "      <th>EC 3</th>\n",
       "      <th>EC 4</th>\n",
       "      <th>EC 5</th>\n",
       "      <th>EC 6</th>\n",
       "      <th>EC 7</th>\n",
       "    </tr>\n",
       "  </thead>\n",
       "  <tbody>\n",
       "    <tr>\n",
       "      <th>0</th>\n",
       "      <td>DIMOND Benchmark</td>\n",
       "      <td>4.799414</td>\n",
       "      <td>5.568785</td>\n",
       "      <td>1.0</td>\n",
       "      <td>0.047994</td>\n",
       "      <td>0.091592</td>\n",
       "      <td>1.0</td>\n",
       "      <td>0.055688</td>\n",
       "      <td>0.105501</td>\n",
       "      <td>0.02821</td>\n",
       "      <td>0.912805</td>\n",
       "      <td>94.736842</td>\n",
       "      <td>97.333333</td>\n",
       "      <td>96.629213</td>\n",
       "      <td>100.0</td>\n",
       "      <td>88.235294</td>\n",
       "      <td>100.0</td>\n",
       "      <td>0.0</td>\n",
       "    </tr>\n",
       "  </tbody>\n",
       "</table>\n",
       "</div>"
      ],
      "text/plain": [
       "             Method  Exact Match Accuracy  First Number Match Accuracy  \\\n",
       "0  DIMOND Benchmark              4.799414                     5.568785   \n",
       "\n",
       "   Exact Precision  Exact Recall  Exact F1-Score  First Number Precision  \\\n",
       "0              1.0      0.047994        0.091592                     1.0   \n",
       "\n",
       "   First Number Recall  First Number F1-Score  No EC number found  \\\n",
       "0             0.055688               0.105501             0.02821   \n",
       "\n",
       "   No Prediction       EC 1       EC 2       EC 3   EC 4       EC 5   EC 6  \\\n",
       "0       0.912805  94.736842  97.333333  96.629213  100.0  88.235294  100.0   \n",
       "\n",
       "   EC 7  \n",
       "0   0.0  "
      ]
     },
     "execution_count": 26,
     "metadata": {},
     "output_type": "execute_result"
    }
   ],
   "source": [
    "metrics = pd.read_csv(constants.METRICS_FILE)\n",
    "metrics"
   ]
  },
  {
   "cell_type": "code",
   "execution_count": null,
   "metadata": {},
   "outputs": [],
   "source": []
  },
  {
   "cell_type": "code",
   "execution_count": null,
   "metadata": {},
   "outputs": [],
   "source": []
  }
 ],
 "metadata": {
  "kernelspec": {
   "display_name": "py310_venv",
   "language": "python",
   "name": "python3"
  },
  "language_info": {
   "codemirror_mode": {
    "name": "ipython",
    "version": 3
   },
   "file_extension": ".py",
   "mimetype": "text/x-python",
   "name": "python",
   "nbconvert_exporter": "python",
   "pygments_lexer": "ipython3",
   "version": "3.10.14"
  }
 },
 "nbformat": 4,
 "nbformat_minor": 2
}
