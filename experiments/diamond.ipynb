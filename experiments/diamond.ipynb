{
 "cells": [
  {
   "cell_type": "markdown",
   "metadata": {},
   "source": [
    "### import libs\n",
    "+ Note: sometimes when you update uitl functions, re-run import may not load your change\n",
    "+ Try restart kernal."
   ]
  },
  {
   "cell_type": "code",
   "execution_count": 1,
   "metadata": {},
   "outputs": [],
   "source": [
    "import pandas as pd\n",
    "import sys\n",
    "import nest_asyncio\n",
    "import itertools\n",
    "nest_asyncio.apply() # for fetch_ec_improved to run in jupyter notebook\n",
    "\n",
    "from EC40_loader import EC40_loader\n",
    "\n",
    "from fetch_ec_improved import fetch_ec_async\n",
    "from evaluate_ec import evaluate_ec\n",
    "from abstracts.AbstractDataLoader import AbstractDataLoader\n",
    "from Diamond.DiamondFeatureEngineer import DiamondFeatureEngineer\n",
    "from Diamond.DiamondPredictor import DiamondPredictor"
   ]
  },
  {
   "cell_type": "markdown",
   "metadata": {},
   "source": [
    "### File Paths"
   ]
  },
  {
   "cell_type": "code",
   "execution_count": 2,
   "metadata": {},
   "outputs": [],
   "source": [
    "ec40_file_pkl = \"../dataset/ec40/ec40.pkl\"\n",
    "ec40_train_file = \"../dataset/ec40/ec40_train.csv\"\n",
    "ec40_valid_file = \"../dataset/ec40/ec40_valid.csv\"\n",
    "ec40_test_file = \"../dataset/ec40/ec40_test.csv\"\n",
    "test_seq_file = \"../dataset/diamond_results/test_sequences.fasta\"\n",
    "ec_results_file = \"../dataset/diamond_results/test_sequences_ec_results.csv\"\n",
    "diamond_output_file = \"../dataset/diamond_results/test_sequences_results.m8\"\n",
    "filtered_output_file = \"../dataset/diamond_results/test_sequences_filtered.m8\"\n",
    "ec_result_path = \"../dataset/diamond_results/test_sequences_ec_results.csv\"\n",
    "evaluate_file = \"../dataset/diamond_results/evaluation_results.csv\"\n",
    "metrics_file = \"../metrics/metrics.csv\""
   ]
  },
  {
   "cell_type": "markdown",
   "metadata": {},
   "source": [
    "### Load EC40 Dataset"
   ]
  },
  {
   "cell_type": "code",
   "execution_count": 3,
   "metadata": {},
   "outputs": [
    {
     "name": "stdout",
     "output_type": "stream",
     "text": [
      "Traintest distribution (raw counts):\n",
      "traintest\n",
      "0    74399\n",
      "1     8261\n",
      "Name: count, dtype: int64\n",
      "\n",
      "Traintest distribution (proportions):\n",
      "traintest\n",
      "0    0.90006\n",
      "1    0.09994\n",
      "Name: proportion, dtype: float64\n",
      "Training Set saved in ../dataset/ec40/ec40_train.csv\n",
      "Validation Set saved in ../dataset/ec40/ec40_valid.csv\n",
      "Test Set saved in ../dataset/ec40/ec40_test.csv\n"
     ]
    },
    {
     "data": {
      "text/html": [
       "<div>\n",
       "<style scoped>\n",
       "    .dataframe tbody tr th:only-of-type {\n",
       "        vertical-align: middle;\n",
       "    }\n",
       "\n",
       "    .dataframe tbody tr th {\n",
       "        vertical-align: top;\n",
       "    }\n",
       "\n",
       "    .dataframe thead th {\n",
       "        text-align: right;\n",
       "    }\n",
       "</style>\n",
       "<table border=\"1\" class=\"dataframe\">\n",
       "  <thead>\n",
       "    <tr style=\"text-align: right;\">\n",
       "      <th></th>\n",
       "      <th>Unnamed: 0</th>\n",
       "      <th>accession</th>\n",
       "      <th>sequence</th>\n",
       "      <th>ec</th>\n",
       "      <th>traintest</th>\n",
       "      <th>negative_for</th>\n",
       "      <th>mainclass_set</th>\n",
       "      <th>sprot_version</th>\n",
       "      <th>len</th>\n",
       "    </tr>\n",
       "  </thead>\n",
       "  <tbody>\n",
       "    <tr>\n",
       "      <th>0</th>\n",
       "      <td>4130</td>\n",
       "      <td>Q9D975</td>\n",
       "      <td>MGLRAGGALRRAGAGPGAPEGQGPGGAQGGSIHSGCIATVHNVPIA...</td>\n",
       "      <td>['1.8.98.2']</td>\n",
       "      <td>1</td>\n",
       "      <td>Transferases</td>\n",
       "      <td>Transferases</td>\n",
       "      <td>2017_03</td>\n",
       "      <td>1</td>\n",
       "    </tr>\n",
       "    <tr>\n",
       "      <th>1</th>\n",
       "      <td>4131</td>\n",
       "      <td>O66651</td>\n",
       "      <td>MEEKKVDLKDTLNLPRTEFPMKANLPQREPQILEKWKGLYEKIQKE...</td>\n",
       "      <td>['6.1.1.5']</td>\n",
       "      <td>1</td>\n",
       "      <td>Transferases</td>\n",
       "      <td>Transferases</td>\n",
       "      <td>2017_03</td>\n",
       "      <td>1</td>\n",
       "    </tr>\n",
       "    <tr>\n",
       "      <th>2</th>\n",
       "      <td>4132</td>\n",
       "      <td>Q0U8V9</td>\n",
       "      <td>MANDYPSSDEEIMEAQTGSRKRRKTSSDSESDTAPRAPTATSISRV...</td>\n",
       "      <td>['3.6.4.13']</td>\n",
       "      <td>1</td>\n",
       "      <td>Transferases</td>\n",
       "      <td>Transferases</td>\n",
       "      <td>2017_03</td>\n",
       "      <td>1</td>\n",
       "    </tr>\n",
       "    <tr>\n",
       "      <th>3</th>\n",
       "      <td>4133</td>\n",
       "      <td>Q978Z5</td>\n",
       "      <td>MLIYNTLTRRLQEFNEMHRGRVNLFVCGPTVQDHFHIGHARTYIFF...</td>\n",
       "      <td>['6.1.1.16']</td>\n",
       "      <td>1</td>\n",
       "      <td>NaN</td>\n",
       "      <td>Ligases</td>\n",
       "      <td>2017_03</td>\n",
       "      <td>1</td>\n",
       "    </tr>\n",
       "    <tr>\n",
       "      <th>4</th>\n",
       "      <td>4134</td>\n",
       "      <td>Q9HKR6</td>\n",
       "      <td>MPQVKVTASAPCSSANLGSGFDTLAIALDAFHDRVTISDHDGFKLT...</td>\n",
       "      <td>['2.7.1.39']</td>\n",
       "      <td>1</td>\n",
       "      <td>NaN</td>\n",
       "      <td>Transferases</td>\n",
       "      <td>2017_03</td>\n",
       "      <td>1</td>\n",
       "    </tr>\n",
       "    <tr>\n",
       "      <th>...</th>\n",
       "      <td>...</td>\n",
       "      <td>...</td>\n",
       "      <td>...</td>\n",
       "      <td>...</td>\n",
       "      <td>...</td>\n",
       "      <td>...</td>\n",
       "      <td>...</td>\n",
       "      <td>...</td>\n",
       "      <td>...</td>\n",
       "    </tr>\n",
       "    <tr>\n",
       "      <th>4126</th>\n",
       "      <td>8256</td>\n",
       "      <td>A4YD89</td>\n",
       "      <td>MNPVNDIIDSYSAIVYTHKTVGVDKLASHYLGWNEIKELSKYYDGE...</td>\n",
       "      <td>['1.2.1.70']</td>\n",
       "      <td>1</td>\n",
       "      <td>Hydrolases</td>\n",
       "      <td>Hydrolases</td>\n",
       "      <td>2017_03</td>\n",
       "      <td>1</td>\n",
       "    </tr>\n",
       "    <tr>\n",
       "      <th>4127</th>\n",
       "      <td>8257</td>\n",
       "      <td>P65179</td>\n",
       "      <td>MPTGSVTVRVPGKVNLYLAVGDRREDGYHELTTVFHAVSLVDEVTV...</td>\n",
       "      <td>['2.7.1.148']</td>\n",
       "      <td>1</td>\n",
       "      <td>NaN</td>\n",
       "      <td>Transferases</td>\n",
       "      <td>2017_03</td>\n",
       "      <td>1</td>\n",
       "    </tr>\n",
       "    <tr>\n",
       "      <th>4128</th>\n",
       "      <td>8258</td>\n",
       "      <td>P13079</td>\n",
       "      <td>MAALLKRILRRRMAEKRSGRGRMAAARTTGAQSRKTAQRSGRSEAD...</td>\n",
       "      <td>['2.1.1.-']</td>\n",
       "      <td>1</td>\n",
       "      <td>NaN</td>\n",
       "      <td>Transferases</td>\n",
       "      <td>2017_03</td>\n",
       "      <td>1</td>\n",
       "    </tr>\n",
       "    <tr>\n",
       "      <th>4129</th>\n",
       "      <td>8259</td>\n",
       "      <td>B5YHP2</td>\n",
       "      <td>MKIVIASRNRKKIEELKRILQGLEITILSVNDFPELEEVKEDGLTF...</td>\n",
       "      <td>['3.6.1.9']</td>\n",
       "      <td>1</td>\n",
       "      <td>NaN</td>\n",
       "      <td>Hydrolases</td>\n",
       "      <td>2017_03</td>\n",
       "      <td>1</td>\n",
       "    </tr>\n",
       "    <tr>\n",
       "      <th>4130</th>\n",
       "      <td>8260</td>\n",
       "      <td>Q8PHB5</td>\n",
       "      <td>MSIEQLAETAQAMVAPGKGIIAIDESTSTIAKRFASVGIENIEENR...</td>\n",
       "      <td>['4.1.2.13']</td>\n",
       "      <td>1</td>\n",
       "      <td>Transferases</td>\n",
       "      <td>Transferases</td>\n",
       "      <td>2017_03</td>\n",
       "      <td>1</td>\n",
       "    </tr>\n",
       "  </tbody>\n",
       "</table>\n",
       "<p>4131 rows × 9 columns</p>\n",
       "</div>"
      ],
      "text/plain": [
       "      Unnamed: 0 accession                                           sequence  \\\n",
       "0           4130    Q9D975  MGLRAGGALRRAGAGPGAPEGQGPGGAQGGSIHSGCIATVHNVPIA...   \n",
       "1           4131    O66651  MEEKKVDLKDTLNLPRTEFPMKANLPQREPQILEKWKGLYEKIQKE...   \n",
       "2           4132    Q0U8V9  MANDYPSSDEEIMEAQTGSRKRRKTSSDSESDTAPRAPTATSISRV...   \n",
       "3           4133    Q978Z5  MLIYNTLTRRLQEFNEMHRGRVNLFVCGPTVQDHFHIGHARTYIFF...   \n",
       "4           4134    Q9HKR6  MPQVKVTASAPCSSANLGSGFDTLAIALDAFHDRVTISDHDGFKLT...   \n",
       "...          ...       ...                                                ...   \n",
       "4126        8256    A4YD89  MNPVNDIIDSYSAIVYTHKTVGVDKLASHYLGWNEIKELSKYYDGE...   \n",
       "4127        8257    P65179  MPTGSVTVRVPGKVNLYLAVGDRREDGYHELTTVFHAVSLVDEVTV...   \n",
       "4128        8258    P13079  MAALLKRILRRRMAEKRSGRGRMAAARTTGAQSRKTAQRSGRSEAD...   \n",
       "4129        8259    B5YHP2  MKIVIASRNRKKIEELKRILQGLEITILSVNDFPELEEVKEDGLTF...   \n",
       "4130        8260    Q8PHB5  MSIEQLAETAQAMVAPGKGIIAIDESTSTIAKRFASVGIENIEENR...   \n",
       "\n",
       "                 ec  traintest  negative_for mainclass_set sprot_version  len  \n",
       "0      ['1.8.98.2']          1  Transferases  Transferases       2017_03    1  \n",
       "1       ['6.1.1.5']          1  Transferases  Transferases       2017_03    1  \n",
       "2      ['3.6.4.13']          1  Transferases  Transferases       2017_03    1  \n",
       "3      ['6.1.1.16']          1           NaN       Ligases       2017_03    1  \n",
       "4      ['2.7.1.39']          1           NaN  Transferases       2017_03    1  \n",
       "...             ...        ...           ...           ...           ...  ...  \n",
       "4126   ['1.2.1.70']          1    Hydrolases    Hydrolases       2017_03    1  \n",
       "4127  ['2.7.1.148']          1           NaN  Transferases       2017_03    1  \n",
       "4128    ['2.1.1.-']          1           NaN  Transferases       2017_03    1  \n",
       "4129    ['3.6.1.9']          1           NaN    Hydrolases       2017_03    1  \n",
       "4130   ['4.1.2.13']          1  Transferases  Transferases       2017_03    1  \n",
       "\n",
       "[4131 rows x 9 columns]"
      ]
     },
     "execution_count": 3,
     "metadata": {},
     "output_type": "execute_result"
    }
   ],
   "source": [
    "ec40_loader = EC40_loader(ec40_file_pkl, ec40_train_file, ec40_valid_file, ec40_test_file)\n",
    "ec40_loader.load_and_split()\n",
    "ec40_test = ec40_loader.load_test()\n",
    "ec40_test"
   ]
  },
  {
   "cell_type": "markdown",
   "metadata": {},
   "source": [
    "### Prepare test sequence"
   ]
  },
  {
   "cell_type": "code",
   "execution_count": 4,
   "metadata": {},
   "outputs": [
    {
     "name": "stdout",
     "output_type": "stream",
     "text": [
      "Found 4131 test sequences.\n"
     ]
    }
   ],
   "source": [
    "ec40_loader.get_fasta(ec40_test, test_seq_file)"
   ]
  },
  {
   "cell_type": "markdown",
   "metadata": {},
   "source": [
    "### Dimond Query - Feature Engineering"
   ]
  },
  {
   "cell_type": "markdown",
   "metadata": {},
   "source": [
    "Download DIMOND\n",
    "+ if not downloaded, uncomment below (linux version)"
   ]
  },
  {
   "cell_type": "code",
   "execution_count": null,
   "metadata": {},
   "outputs": [],
   "source": [
    "# linux\n",
    "# !wget http://github.com/bbuchfink/diamond/releases/download/v2.0.4/diamond-linux64.tar.gz\n",
    "# !tar xzf diamond-linux64.tar.gz"
   ]
  },
  {
   "cell_type": "markdown",
   "metadata": {},
   "source": [
    "Prepare DIMOND Database Folder\n",
    "+ if not downloaded, uncomment below"
   ]
  },
  {
   "cell_type": "code",
   "execution_count": null,
   "metadata": {},
   "outputs": [],
   "source": [
    "# !mkdir ../dataset/dimond_db/\n",
    "# %cd ../dataset/dimond_db/"
   ]
  },
  {
   "cell_type": "markdown",
   "metadata": {},
   "source": [
    "Download UniRef90\n",
    "+ if not downloaded, uncomment below"
   ]
  },
  {
   "cell_type": "code",
   "execution_count": null,
   "metadata": {},
   "outputs": [],
   "source": [
    "# !wget ftp://ftp.uniprot.org/pub/databases/uniprot/current_release/uniref/uniref90/uniref90.fasta.gz"
   ]
  },
  {
   "cell_type": "code",
   "execution_count": null,
   "metadata": {},
   "outputs": [],
   "source": [
    "# %cd ../../experiments"
   ]
  },
  {
   "cell_type": "markdown",
   "metadata": {},
   "source": [
    "Generate Database\n",
    "+ it takes roughly 45 mins for 24 cpu threads\n",
    "+ if not generated uncomment below"
   ]
  },
  {
   "cell_type": "code",
   "execution_count": null,
   "metadata": {},
   "outputs": [],
   "source": [
    "# !diamond makedb --in ../dataset/dimond_db/uniref90.fasta.gz -d ../dataset/dimond_db/uniref90.dmnd"
   ]
  },
  {
   "cell_type": "markdown",
   "metadata": {},
   "source": [
    "Run DIAMOND search \n",
    "+ 84 mins for all test_sequences\n",
    "+ DIAMOND Output format\n",
    "\n",
    "            qseqid means Query Seq-id\n",
    "           sseqid means Subject Seq-id\n",
    "           pident means Percentage of identical matches\n",
    "           length means Alignment length\n",
    "         mismatch means Number of mismatches\n",
    "          gapopen means Number of gap openings\n",
    "           qstart means Start of alignment in query\n",
    "             qend means End of alignment in query\n",
    "           sstart means Start of alignment in subject\n",
    "             send means End of alignment in subject\n",
    "           evalue means Expect value\n",
    "         bitscore means Bit score"
   ]
  },
  {
   "cell_type": "code",
   "execution_count": 4,
   "metadata": {},
   "outputs": [],
   "source": [
    "# !diamond blastp --db ../dataset/dimond_db/uniref90.dmnd \\\n",
    "#                 --query $test_seq_file \\\n",
    "#                 --out $diamond_output_file \\\n",
    "#                 --quiet"
   ]
  },
  {
   "cell_type": "code",
   "execution_count": 5,
   "metadata": {},
   "outputs": [
    {
     "name": "stdout",
     "output_type": "stream",
     "text": [
      "Q9D975\tUniRef90_Q9D975\t100.0\t136\t0\t0\t1\t136\t1\t136\t1.9e-68\t268.1\n",
      "Q9D975\tUniRef90_UPI002452E298\t93.4\t136\t9\t0\t1\t136\t20\t155\t3.1e-63\t250.8\n",
      "Q9D975\tUniRef90_A0A8J6KV60\t93.4\t136\t9\t0\t1\t136\t1\t136\t4.1e-63\t250.4\n",
      "Q9D975\tUniRef90_G3I8Z5\t92.6\t136\t10\t0\t1\t136\t20\t155\t1.2e-62\t248.8\n",
      "Q9D975\tUniRef90_A0A6I9LVF8\t91.2\t136\t12\t0\t1\t136\t20\t155\t5.9e-62\t246.5\n",
      "Q9D975\tUniRef90_A0AAW0HZB7\t91.9\t136\t11\t0\t1\t136\t20\t155\t1.0e-61\t245.7\n",
      "Q9D975\tUniRef90_Q9BYN0\t89.8\t137\t13\t1\t1\t136\t1\t137\t8.0e-59\t236.1\n",
      "Q9D975\tUniRef90_A0A8C2NLF8\t89.1\t137\t14\t1\t1\t136\t188\t324\t1.0e-58\t235.7\n",
      "Q9D975\tUniRef90_A0A8D2AFX9\t88.3\t137\t15\t1\t1\t136\t1\t137\t3.0e-58\t234.2\n",
      "Q9D975\tUniRef90_A0A6J0ANF4\t87.8\t139\t14\t2\t1\t136\t1\t139\t6.8e-58\t233.0\n"
     ]
    }
   ],
   "source": [
    "!head $diamond_output_file"
   ]
  },
  {
   "cell_type": "code",
   "execution_count": 11,
   "metadata": {},
   "outputs": [
    {
     "name": "stdout",
     "output_type": "stream",
     "text": [
      "finished writting 333 query to ../dataset/diamond_results/test_sequences_filtered.m8\n"
     ]
    }
   ],
   "source": [
    "diamond_loader = AbstractDataLoader(None, None, None, diamond_output_file) # only load test here\n",
    "feature_loader = AbstractDataLoader(None, None, None, filtered_output_file)\n",
    "diamond_fe = DiamondFeatureEngineer(diamond_loader, feature_loader, identity=40)\n",
    "diamond_fe.apply_feature_engineering(\"test\")"
   ]
  },
  {
   "cell_type": "markdown",
   "metadata": {},
   "source": [
    "### Fetch EC number from UniProt API - Generate Prediction"
   ]
  },
  {
   "cell_type": "code",
   "execution_count": 12,
   "metadata": {},
   "outputs": [
    {
     "name": "stdout",
     "output_type": "stream",
     "text": [
      "Parsing DIAMOND output and fetching EC numbers concurrently...\n"
     ]
    },
    {
     "name": "stderr",
     "output_type": "stream",
     "text": [
      "Processing queries: 100%|██████████| 271/271 [00:01<00:00, 137.35it/s]"
     ]
    },
    {
     "name": "stdout",
     "output_type": "stream",
     "text": [
      "Saving results to CSV...\n",
      "Results saved to '../dataset/diamond_results/test_sequences_ec_results.csv'\n"
     ]
    },
    {
     "name": "stderr",
     "output_type": "stream",
     "text": [
      "\n"
     ]
    },
    {
     "data": {
      "text/html": [
       "<div>\n",
       "<style scoped>\n",
       "    .dataframe tbody tr th:only-of-type {\n",
       "        vertical-align: middle;\n",
       "    }\n",
       "\n",
       "    .dataframe tbody tr th {\n",
       "        vertical-align: top;\n",
       "    }\n",
       "\n",
       "    .dataframe thead th {\n",
       "        text-align: right;\n",
       "    }\n",
       "</style>\n",
       "<table border=\"1\" class=\"dataframe\">\n",
       "  <thead>\n",
       "    <tr style=\"text-align: right;\">\n",
       "      <th></th>\n",
       "      <th>Query</th>\n",
       "      <th>Subject</th>\n",
       "      <th>EC Number</th>\n",
       "    </tr>\n",
       "  </thead>\n",
       "  <tbody>\n",
       "    <tr>\n",
       "      <th>0</th>\n",
       "      <td>A9F3W3</td>\n",
       "      <td>UniRef90_A0A1G3MEI2</td>\n",
       "      <td>6.5.1.2</td>\n",
       "    </tr>\n",
       "    <tr>\n",
       "      <th>1</th>\n",
       "      <td>C0R0Y0</td>\n",
       "      <td>UniRef90_A0A933UXU9</td>\n",
       "      <td>2.1.1.-</td>\n",
       "    </tr>\n",
       "    <tr>\n",
       "      <th>2</th>\n",
       "      <td>Q96ZD9</td>\n",
       "      <td>UniRef90_A0A1V3NUW3</td>\n",
       "      <td>6.3.4.20</td>\n",
       "    </tr>\n",
       "    <tr>\n",
       "      <th>3</th>\n",
       "      <td>O32865</td>\n",
       "      <td>UniRef90_A0A6A2FQ80</td>\n",
       "      <td>7.2.1.4</td>\n",
       "    </tr>\n",
       "    <tr>\n",
       "      <th>4</th>\n",
       "      <td>A0KEP8</td>\n",
       "      <td>UniRef90_A0A1N6ZI73</td>\n",
       "      <td>4.1.3.40</td>\n",
       "    </tr>\n",
       "    <tr>\n",
       "      <th>...</th>\n",
       "      <td>...</td>\n",
       "      <td>...</td>\n",
       "      <td>...</td>\n",
       "    </tr>\n",
       "    <tr>\n",
       "      <th>266</th>\n",
       "      <td>Q9Y7U9</td>\n",
       "      <td>NaN</td>\n",
       "      <td>No EC number found</td>\n",
       "    </tr>\n",
       "    <tr>\n",
       "      <th>267</th>\n",
       "      <td>Q9YFY3</td>\n",
       "      <td>NaN</td>\n",
       "      <td>No EC number found</td>\n",
       "    </tr>\n",
       "    <tr>\n",
       "      <th>268</th>\n",
       "      <td>O14169</td>\n",
       "      <td>NaN</td>\n",
       "      <td>No EC number found</td>\n",
       "    </tr>\n",
       "    <tr>\n",
       "      <th>269</th>\n",
       "      <td>Q54RN1</td>\n",
       "      <td>NaN</td>\n",
       "      <td>No EC number found</td>\n",
       "    </tr>\n",
       "    <tr>\n",
       "      <th>270</th>\n",
       "      <td>Q8W257</td>\n",
       "      <td>NaN</td>\n",
       "      <td>No EC number found</td>\n",
       "    </tr>\n",
       "  </tbody>\n",
       "</table>\n",
       "<p>271 rows × 3 columns</p>\n",
       "</div>"
      ],
      "text/plain": [
       "      Query              Subject           EC Number\n",
       "0    A9F3W3  UniRef90_A0A1G3MEI2             6.5.1.2\n",
       "1    C0R0Y0  UniRef90_A0A933UXU9             2.1.1.-\n",
       "2    Q96ZD9  UniRef90_A0A1V3NUW3            6.3.4.20\n",
       "3    O32865  UniRef90_A0A6A2FQ80             7.2.1.4\n",
       "4    A0KEP8  UniRef90_A0A1N6ZI73            4.1.3.40\n",
       "..      ...                  ...                 ...\n",
       "266  Q9Y7U9                  NaN  No EC number found\n",
       "267  Q9YFY3                  NaN  No EC number found\n",
       "268  O14169                  NaN  No EC number found\n",
       "269  Q54RN1                  NaN  No EC number found\n",
       "270  Q8W257                  NaN  No EC number found\n",
       "\n",
       "[271 rows x 3 columns]"
      ]
     },
     "execution_count": 12,
     "metadata": {},
     "output_type": "execute_result"
    }
   ],
   "source": [
    "diamond_pred = DiamondPredictor(predict_path=ec_result_path)\n",
    "diamond_pred.predict(filtered_output_file)"
   ]
  },
  {
   "cell_type": "markdown",
   "metadata": {},
   "source": [
    "### Evaluate EC Result"
   ]
  },
  {
   "cell_type": "code",
   "execution_count": 13,
   "metadata": {},
   "outputs": [],
   "source": [
    "# !mkdir ../metrics"
   ]
  },
  {
   "cell_type": "code",
   "execution_count": 14,
   "metadata": {},
   "outputs": [
    {
     "name": "stdout",
     "output_type": "stream",
     "text": [
      "Loading data...\n",
      "Matching predictions...\n"
     ]
    },
    {
     "name": "stderr",
     "output_type": "stream",
     "text": [
      "Matching Predictions:   0%|          | 0/4131 [00:00<?, ?it/s]"
     ]
    },
    {
     "name": "stderr",
     "output_type": "stream",
     "text": [
      "Matching Predictions: 100%|██████████| 4131/4131 [00:00<00:00, 9336.90it/s]\n"
     ]
    },
    {
     "name": "stdout",
     "output_type": "stream",
     "text": [
      "Computing evaluation metrics...\n",
      "Exact Match Accuracy: 4.36%\n",
      "First Number Match Accuracy: 4.96%\n",
      "Per First-Number Accuracy:\n",
      "  EC 7: 0.00%\n",
      "  EC 2: 96.05%\n",
      "  EC 3: 92.86%\n",
      "  EC 6: 100.00%\n",
      "  EC 5: 96.67%\n",
      "  EC 4: 100.00%\n",
      "  EC 1: 90.91%\n",
      "Exact Precision: 1.00, Recall: 0.04, F1-Score: 0.08\n",
      "First Number Precision: 1.00, Recall: 0.05, F1-Score: 0.09\n",
      "Saved results to ../metrics/metrics.csv and ../dataset/diamond_results/evaluation_results.csv\n"
     ]
    }
   ],
   "source": [
    "evaluate_ec(ec_results_file, metrics_file, evaluate_file, ec40_test_file)"
   ]
  },
  {
   "cell_type": "markdown",
   "metadata": {},
   "source": [
    "### Visualize Metrics\n",
    "+ No Prediction: No available diamond alignment result\n",
    "+ No EC number found: No record in uniprot api"
   ]
  },
  {
   "cell_type": "code",
   "execution_count": 15,
   "metadata": {},
   "outputs": [
    {
     "data": {
      "text/html": [
       "<div>\n",
       "<style scoped>\n",
       "    .dataframe tbody tr th:only-of-type {\n",
       "        vertical-align: middle;\n",
       "    }\n",
       "\n",
       "    .dataframe tbody tr th {\n",
       "        vertical-align: top;\n",
       "    }\n",
       "\n",
       "    .dataframe thead th {\n",
       "        text-align: right;\n",
       "    }\n",
       "</style>\n",
       "<table border=\"1\" class=\"dataframe\">\n",
       "  <thead>\n",
       "    <tr style=\"text-align: right;\">\n",
       "      <th></th>\n",
       "      <th>Method</th>\n",
       "      <th>Exact Match Accuracy</th>\n",
       "      <th>First Number Match Accuracy</th>\n",
       "      <th>Exact Precision</th>\n",
       "      <th>Exact Recall</th>\n",
       "      <th>Exact F1-Score</th>\n",
       "      <th>First Number Precision</th>\n",
       "      <th>First Number Recall</th>\n",
       "      <th>First Number F1-Score</th>\n",
       "      <th>No EC number found</th>\n",
       "      <th>No Prediction</th>\n",
       "      <th>EC 1</th>\n",
       "      <th>EC 2</th>\n",
       "      <th>EC 3</th>\n",
       "      <th>EC 4</th>\n",
       "      <th>EC 5</th>\n",
       "      <th>EC 6</th>\n",
       "      <th>EC 7</th>\n",
       "    </tr>\n",
       "  </thead>\n",
       "  <tbody>\n",
       "    <tr>\n",
       "      <th>0</th>\n",
       "      <td>DIMOND Benchmark</td>\n",
       "      <td>4.357298</td>\n",
       "      <td>4.962479</td>\n",
       "      <td>1.0</td>\n",
       "      <td>0.043573</td>\n",
       "      <td>0.083507</td>\n",
       "      <td>1.0</td>\n",
       "      <td>0.049625</td>\n",
       "      <td>0.094557</td>\n",
       "      <td>0.02687</td>\n",
       "      <td>0.91939</td>\n",
       "      <td>90.909091</td>\n",
       "      <td>96.052632</td>\n",
       "      <td>92.857143</td>\n",
       "      <td>100.0</td>\n",
       "      <td>96.666667</td>\n",
       "      <td>100.0</td>\n",
       "      <td>0.0</td>\n",
       "    </tr>\n",
       "  </tbody>\n",
       "</table>\n",
       "</div>"
      ],
      "text/plain": [
       "             Method  Exact Match Accuracy  First Number Match Accuracy  \\\n",
       "0  DIMOND Benchmark              4.357298                     4.962479   \n",
       "\n",
       "   Exact Precision  Exact Recall  Exact F1-Score  First Number Precision  \\\n",
       "0              1.0      0.043573        0.083507                     1.0   \n",
       "\n",
       "   First Number Recall  First Number F1-Score  No EC number found  \\\n",
       "0             0.049625               0.094557             0.02687   \n",
       "\n",
       "   No Prediction       EC 1       EC 2       EC 3   EC 4       EC 5   EC 6  \\\n",
       "0        0.91939  90.909091  96.052632  92.857143  100.0  96.666667  100.0   \n",
       "\n",
       "   EC 7  \n",
       "0   0.0  "
      ]
     },
     "execution_count": 15,
     "metadata": {},
     "output_type": "execute_result"
    }
   ],
   "source": [
    "metrics = pd.read_csv(\"../metrics/metrics.csv\")\n",
    "metrics"
   ]
  },
  {
   "cell_type": "code",
   "execution_count": null,
   "metadata": {},
   "outputs": [],
   "source": []
  }
 ],
 "metadata": {
  "kernelspec": {
   "display_name": "py310_venv",
   "language": "python",
   "name": "python3"
  },
  "language_info": {
   "codemirror_mode": {
    "name": "ipython",
    "version": 3
   },
   "file_extension": ".py",
   "mimetype": "text/x-python",
   "name": "python",
   "nbconvert_exporter": "python",
   "pygments_lexer": "ipython3",
   "version": "3.10.14"
  }
 },
 "nbformat": 4,
 "nbformat_minor": 2
}
