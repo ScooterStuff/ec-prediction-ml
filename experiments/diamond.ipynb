{
 "cells": [
  {
   "cell_type": "markdown",
   "metadata": {},
   "source": [
    "### import libs\n",
    "+ Note: sometimes when you update uitl functions, re-run import may not load your change\n",
    "+ Try restart kernal."
   ]
  },
  {
   "cell_type": "code",
   "execution_count": null,
   "metadata": {},
   "outputs": [],
   "source": [
    "import pandas as pd\n",
    "import sys\n",
    "sys.path.append(\"experiments\")\n",
    "import nest_asyncio\n",
    "nest_asyncio.apply() # for fetch_ec_improved to run in jupyter notebook\n",
    "\n",
    "from fetch_ec_improved import fetch_ec_async\n",
    "from evaluate_ec import evaluate_ec"
   ]
  },
  {
   "cell_type": "markdown",
   "metadata": {},
   "source": [
    "### Load EC40 Dataset"
   ]
  },
  {
   "cell_type": "code",
   "execution_count": null,
   "metadata": {},
   "outputs": [],
   "source": [
    "ec40 = pd.read_pickle('../dataset/ec40/ec40.pkl')\n",
    "ec40"
   ]
  },
  {
   "cell_type": "markdown",
   "metadata": {},
   "source": [
    "### Prepare test sequence"
   ]
  },
  {
   "cell_type": "code",
   "execution_count": null,
   "metadata": {},
   "outputs": [],
   "source": [
    "# Filter for test sequences\n",
    "# (Adjust the filtering criteria if your CSV uses a different convention;\n",
    "#  here we assume '0' indicates test sequences.)\n",
    "test_df = ec40[ec40[\"traintest\"] == 0]\n",
    "\n",
    "print(f\"Found {len(test_df)} test sequences.\")\n",
    "\n",
    "# Write the test sequences to a FASTA file.\n",
    "# We will use the 'accession' column as the FASTA header and 'sequence' as the sequence.\n",
    "with open(\"../dataset/test_sequences/test_sequences.fasta\", \"w\") as fout:\n",
    "    for index, row in test_df.iterrows():\n",
    "        accession = row[\"accession\"]\n",
    "        sequence = row[\"sequence\"]\n",
    "        fout.write(f\">{accession}\\n{sequence}\\n\")"
   ]
  },
  {
   "cell_type": "markdown",
   "metadata": {},
   "source": [
    "### Dimond Query"
   ]
  },
  {
   "cell_type": "markdown",
   "metadata": {},
   "source": [
    "Download DIMOND\n",
    "+ if not downloaded, uncomment below (linux version)"
   ]
  },
  {
   "cell_type": "code",
   "execution_count": null,
   "metadata": {},
   "outputs": [],
   "source": [
    "# linux\n",
    "# !wget http://github.com/bbuchfink/diamond/releases/download/v2.0.4/diamond-linux64.tar.gz\n",
    "# !tar xzf diamond-linux64.tar.gz"
   ]
  },
  {
   "cell_type": "markdown",
   "metadata": {},
   "source": [
    "Prepare DIMOND Database Folder\n",
    "+ if not downloaded, uncomment below"
   ]
  },
  {
   "cell_type": "code",
   "execution_count": null,
   "metadata": {},
   "outputs": [],
   "source": [
    "# !mkdir ../dataset/dimond_db/\n",
    "# %cd ../dataset/dimond_db/"
   ]
  },
  {
   "cell_type": "markdown",
   "metadata": {},
   "source": [
    "Download UniRef90\n",
    "+ if not downloaded, uncomment below"
   ]
  },
  {
   "cell_type": "code",
   "execution_count": null,
   "metadata": {},
   "outputs": [],
   "source": [
    "# !wget ftp://ftp.uniprot.org/pub/databases/uniprot/current_release/uniref/uniref90/uniref90.fasta.gz"
   ]
  },
  {
   "cell_type": "code",
   "execution_count": null,
   "metadata": {},
   "outputs": [],
   "source": [
    "# %cd ../../experiments"
   ]
  },
  {
   "cell_type": "markdown",
   "metadata": {},
   "source": [
    "Generate Database\n",
    "+ it takes roughly 45 mins for 24 cpu threads\n",
    "+ if not generated uncomment below"
   ]
  },
  {
   "cell_type": "code",
   "execution_count": null,
   "metadata": {},
   "outputs": [],
   "source": [
    "# !diamond makedb --in ../dataset/dimond_db/uniref90.fasta.gz -d ../dataset/dimond_db/uniref90.dmnd"
   ]
  },
  {
   "cell_type": "markdown",
   "metadata": {},
   "source": [
    "Run DIMOND search \n",
    "+ 84 mins for all test_sequences"
   ]
  },
  {
   "cell_type": "code",
   "execution_count": null,
   "metadata": {},
   "outputs": [],
   "source": [
    "!diamond blastp --db ../dataset/dimond_db/uniref90.dmnd \\\n",
    "                --query ../dataset/test_sequences/test_sequences.fasta \\\n",
    "                --out ../dataset/test_sequences/test_sequences_results.m8"
   ]
  },
  {
   "cell_type": "markdown",
   "metadata": {},
   "source": [
    "### Fetch EC number from UniProt API\n",
    "+ 37 mins for all test sequences"
   ]
  },
  {
   "cell_type": "code",
   "execution_count": null,
   "metadata": {},
   "outputs": [],
   "source": [
    "output_file = \"../dataset/test_sequences/test_sequences_results.m8\"\n",
    "ec_result_path = \"../dataset/test_sequences/test_sequences_ec_results.csv\"\n",
    "\n",
    "fetch_ec_async(output_file, ec_result_path)"
   ]
  },
  {
   "cell_type": "markdown",
   "metadata": {},
   "source": [
    "### Evaluate EC Result"
   ]
  },
  {
   "cell_type": "code",
   "execution_count": null,
   "metadata": {},
   "outputs": [],
   "source": [
    "!mkdir ../metrics"
   ]
  },
  {
   "cell_type": "code",
   "execution_count": null,
   "metadata": {},
   "outputs": [],
   "source": [
    "ec_results_file = \"../dataset/test_sequences/test_sequences_ec_results.csv\"\n",
    "metrics_file = \"../metrics/metrics.csv\"\n",
    "evaluate_file = \"../dataset/test_sequences/evaluation_results.csv\"\n",
    "ec40_file = \"../dataset/ec40/ec40.csv\"\n",
    "evaluate_ec(ec_results_file, metrics_file, evaluate_file, ec40_file)"
   ]
  },
  {
   "cell_type": "markdown",
   "metadata": {},
   "source": [
    "### Visualize Metrics"
   ]
  },
  {
   "cell_type": "code",
   "execution_count": null,
   "metadata": {},
   "outputs": [],
   "source": [
    "metrics = pd.read_csv(\"../metrics/metrics.csv\")\n",
    "metrics"
   ]
  },
  {
   "cell_type": "code",
   "execution_count": null,
   "metadata": {},
   "outputs": [],
   "source": []
  }
 ],
 "metadata": {
  "kernelspec": {
   "display_name": "py310_venv",
   "language": "python",
   "name": "python3"
  },
  "language_info": {
   "codemirror_mode": {
    "name": "ipython",
    "version": 3
   },
   "file_extension": ".py",
   "mimetype": "text/x-python",
   "name": "python",
   "nbconvert_exporter": "python",
   "pygments_lexer": "ipython3",
   "version": "3.10.14"
  }
 },
 "nbformat": 4,
 "nbformat_minor": 2
}
