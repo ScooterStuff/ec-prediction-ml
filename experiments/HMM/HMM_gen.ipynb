{
 "cells": [
  {
   "cell_type": "code",
   "execution_count": null,
   "metadata": {},
   "outputs": [],
   "source": [
    "!wget http://eddylab.org/software/hmmer/hmmer-3.4.tar.gz"
   ]
  },
  {
   "cell_type": "code",
   "execution_count": 2,
   "metadata": {},
   "outputs": [
    {
     "name": "stdout",
     "output_type": "stream",
     "text": [
      "tar (child): hmmer-3.4.tar.gz: Cannot open: No such file or directory\n",
      "tar (child): Error is not recoverable: exiting now\n",
      "tar: Child returned status 2\n",
      "tar: Error is not recoverable: exiting now\n",
      "rm: cannot remove 'hmmer-3.4.tar.gz': No such file or directory\n"
     ]
    }
   ],
   "source": [
    "!tar -xzf hmmer-3.4.tar.gz\n",
    "!rm hmmer-3.4.tar.gz"
   ]
  },
  {
   "cell_type": "code",
   "execution_count": null,
   "metadata": {},
   "outputs": [],
   "source": [
    "%cd hmmer-3.4\n",
    "!./configure\n",
    "!make"
   ]
  },
  {
   "cell_type": "code",
   "execution_count": null,
   "metadata": {},
   "outputs": [],
   "source": [
    "!mkdir ../../dataset/HMM"
   ]
  },
  {
   "cell_type": "code",
   "execution_count": null,
   "metadata": {},
   "outputs": [],
   "source": [
    "%cd ../../dataset/HMM\n",
    "!wget https://ftp.ebi.ac.uk/pub/databases/Pfam/current_release/Pfam-A.hmm.gz"
   ]
  },
  {
   "cell_type": "code",
   "execution_count": null,
   "metadata": {},
   "outputs": [],
   "source": [
    "!gunzip Pfam-A.hmm.gz"
   ]
  },
  {
   "cell_type": "code",
   "execution_count": null,
   "metadata": {},
   "outputs": [],
   "source": [
    "%cd ../../experiments/HMM"
   ]
  },
  {
   "cell_type": "code",
   "execution_count": null,
   "metadata": {},
   "outputs": [],
   "source": [
    "!hmmer-3.4/src/hmmpress ../../dataset/HMM/Pfam-A.hmm"
   ]
  },
  {
   "cell_type": "code",
   "execution_count": null,
   "metadata": {},
   "outputs": [],
   "source": [
    "!hmmer-3.4/src/hmmscan --cpu 24 --domtblout ../../dataset/HMM/test_pfam_results.domtblout ../../dataset/HMM/Pfam-A.hmm ../../dataset/ec40/test.fasta"
   ]
  },
  {
   "cell_type": "code",
   "execution_count": null,
   "metadata": {},
   "outputs": [],
   "source": [
    "!hmmer-3.4/src/hmmscan --cpu 24 --domtblout ../../dataset/HMM/valid_pfam_results.domtblout ../../dataset/HMM/Pfam-A.hmm ../../dataset/ec40/valid.fasta"
   ]
  },
  {
   "cell_type": "code",
   "execution_count": null,
   "metadata": {},
   "outputs": [],
   "source": [
    "!hmmer-3.4/src/hmmscan --cpu 24 --domtblout ../../dataset/HMM/train_pfam_results.domtblout ../../dataset/HMM/Pfam-A.hmm ../../dataset/ec40/train.fasta"
   ]
  },
  {
   "cell_type": "code",
   "execution_count": 22,
   "metadata": {},
   "outputs": [],
   "source": [
    "import pandas as pd\n",
    "\n",
    "def parse_HMM(flag=\"train\"):\n",
    "    file_path = f\"../../dataset/HMM/{flag}_pfam_results.domtblout\"\n",
    "    output_path = f\"../../dataset/HMM/{flag}_features.csv\"\n",
    "    # Define column names based on HMMER domtblout format\n",
    "    columns = [\n",
    "        \"target_name\", \"accession\", \"tlen\", \"query_name\", \"query_accession\", \"qlen\",\"E-value\", \"score\", \"bias\", \"#\", \"of\", \"c-Evalue\", \"i-Evalue\", \"domain_score\",\"domain_bias\", \"hmm_from\", \"hmm_to\", \"ali_from\", \"ali_to\", \"env_from\", \"env_to\",\"acc\", \"description\"\n",
    "    ]\n",
    "\n",
    "    # Read the domtblout file, ignoring comment lines (#)\n",
    "    data = []\n",
    "    with open(file_path, \"r\") as f:\n",
    "        for line in f:\n",
    "            if line.startswith(\"#\"):  # Ignore comment lines\n",
    "                continue\n",
    "            cols = line.strip().split(maxsplit=22)  # Split into 23 columns (last one is description)\n",
    "            data.append(cols)\n",
    "\n",
    "    # Convert to DataFrame\n",
    "    df = pd.DataFrame(data, columns=columns)\n",
    "    df[['ali_to', 'ali_from', 'qlen']] = df[['ali_to', 'ali_from', 'qlen']].apply(pd.to_numeric, errors='coerce')\n",
    "\n",
    "   # Compute coverage\n",
    "    df['coverage'] = (df['ali_to'] - df['ali_from'] + 1) / df['qlen']\n",
    "\n",
    "    # Group by each query to aggregate\n",
    "    agg_df = df.groupby(\"query_name\").agg({\n",
    "        \"E-value\": \"min\",          # best (lowest) E-value\n",
    "        \"score\": \"max\",            # best (highest) bit score\n",
    "        \"coverage\": \"sum\",         # total coverage\n",
    "        \"target_name\": \"count\"     # number of domains\n",
    "    }).reset_index().rename(columns={\"target_name\": \"num_domains\"})\n",
    "\n",
    "    # # One-hot encode domain presence\n",
    "    # domain_onehot = pd.get_dummies(df[[\"query_name\", \"target_name\"]].drop_duplicates(), columns=[\"target_name\"])\n",
    "    # domain_onehot = domain_onehot.groupby(\"query_name\").sum().reset_index()\n",
    "    # final_features = pd.merge(agg_df, domain_onehot, on=\"query_name\", how=\"left\").fillna(0)\n",
    "    agg_df.to_csv(output_path, index=False)"
   ]
  },
  {
   "cell_type": "code",
   "execution_count": 23,
   "metadata": {},
   "outputs": [],
   "source": [
    "parse_HMM(\"train\")\n",
    "parse_HMM(\"test\")\n",
    "parse_HMM(\"valid\")"
   ]
  },
  {
   "cell_type": "code",
   "execution_count": 24,
   "metadata": {},
   "outputs": [
    {
     "data": {
      "text/html": [
       "<div>\n",
       "<style scoped>\n",
       "    .dataframe tbody tr th:only-of-type {\n",
       "        vertical-align: middle;\n",
       "    }\n",
       "\n",
       "    .dataframe tbody tr th {\n",
       "        vertical-align: top;\n",
       "    }\n",
       "\n",
       "    .dataframe thead th {\n",
       "        text-align: right;\n",
       "    }\n",
       "</style>\n",
       "<table border=\"1\" class=\"dataframe\">\n",
       "  <thead>\n",
       "    <tr style=\"text-align: right;\">\n",
       "      <th></th>\n",
       "      <th>query_name</th>\n",
       "      <th>E-value</th>\n",
       "      <th>score</th>\n",
       "      <th>coverage</th>\n",
       "      <th>num_domains</th>\n",
       "    </tr>\n",
       "  </thead>\n",
       "  <tbody>\n",
       "    <tr>\n",
       "      <th>0</th>\n",
       "      <td>A0A060X6Z0</td>\n",
       "      <td>1.300000e-33</td>\n",
       "      <td>572.2</td>\n",
       "      <td>0.918200</td>\n",
       "      <td>5</td>\n",
       "    </tr>\n",
       "    <tr>\n",
       "      <th>1</th>\n",
       "      <td>A0A0A1GKA2</td>\n",
       "      <td>3.500000e-04</td>\n",
       "      <td>64.0</td>\n",
       "      <td>3.365657</td>\n",
       "      <td>27</td>\n",
       "    </tr>\n",
       "    <tr>\n",
       "      <th>2</th>\n",
       "      <td>A0A0A1GNF2</td>\n",
       "      <td>3.400000e-64</td>\n",
       "      <td>217.0</td>\n",
       "      <td>0.716724</td>\n",
       "      <td>1</td>\n",
       "    </tr>\n",
       "    <tr>\n",
       "      <th>3</th>\n",
       "      <td>A0A0B6VIJ5</td>\n",
       "      <td>1.100000e-01</td>\n",
       "      <td>91.2</td>\n",
       "      <td>0.754717</td>\n",
       "      <td>3</td>\n",
       "    </tr>\n",
       "    <tr>\n",
       "      <th>4</th>\n",
       "      <td>A0A0J9X1Q5</td>\n",
       "      <td>2.900000e-02</td>\n",
       "      <td>9.8</td>\n",
       "      <td>0.878077</td>\n",
       "      <td>3</td>\n",
       "    </tr>\n",
       "    <tr>\n",
       "      <th>...</th>\n",
       "      <td>...</td>\n",
       "      <td>...</td>\n",
       "      <td>...</td>\n",
       "      <td>...</td>\n",
       "      <td>...</td>\n",
       "    </tr>\n",
       "    <tr>\n",
       "      <th>5445</th>\n",
       "      <td>Q9ZYM7</td>\n",
       "      <td>3.700000e-03</td>\n",
       "      <td>30.3</td>\n",
       "      <td>1.434783</td>\n",
       "      <td>17</td>\n",
       "    </tr>\n",
       "    <tr>\n",
       "      <th>5446</th>\n",
       "      <td>Q9ZZX0</td>\n",
       "      <td>3.400000e-02</td>\n",
       "      <td>53.1</td>\n",
       "      <td>0.985876</td>\n",
       "      <td>8</td>\n",
       "    </tr>\n",
       "    <tr>\n",
       "      <th>5447</th>\n",
       "      <td>R4J7Z9</td>\n",
       "      <td>3.400000e-02</td>\n",
       "      <td>326.9</td>\n",
       "      <td>1.147500</td>\n",
       "      <td>9</td>\n",
       "    </tr>\n",
       "    <tr>\n",
       "      <th>5448</th>\n",
       "      <td>W0HJ53</td>\n",
       "      <td>3.700000e-81</td>\n",
       "      <td>271.4</td>\n",
       "      <td>0.824074</td>\n",
       "      <td>1</td>\n",
       "    </tr>\n",
       "    <tr>\n",
       "      <th>5449</th>\n",
       "      <td>W4VSJ0</td>\n",
       "      <td>3.000000e-09</td>\n",
       "      <td>457.5</td>\n",
       "      <td>1.355993</td>\n",
       "      <td>3</td>\n",
       "    </tr>\n",
       "  </tbody>\n",
       "</table>\n",
       "<p>5450 rows × 5 columns</p>\n",
       "</div>"
      ],
      "text/plain": [
       "      query_name       E-value  score  coverage  num_domains\n",
       "0     A0A060X6Z0  1.300000e-33  572.2  0.918200            5\n",
       "1     A0A0A1GKA2  3.500000e-04   64.0  3.365657           27\n",
       "2     A0A0A1GNF2  3.400000e-64  217.0  0.716724            1\n",
       "3     A0A0B6VIJ5  1.100000e-01   91.2  0.754717            3\n",
       "4     A0A0J9X1Q5  2.900000e-02    9.8  0.878077            3\n",
       "...          ...           ...    ...       ...          ...\n",
       "5445      Q9ZYM7  3.700000e-03   30.3  1.434783           17\n",
       "5446      Q9ZZX0  3.400000e-02   53.1  0.985876            8\n",
       "5447      R4J7Z9  3.400000e-02  326.9  1.147500            9\n",
       "5448      W0HJ53  3.700000e-81  271.4  0.824074            1\n",
       "5449      W4VSJ0  3.000000e-09  457.5  1.355993            3\n",
       "\n",
       "[5450 rows x 5 columns]"
      ]
     },
     "execution_count": 24,
     "metadata": {},
     "output_type": "execute_result"
    }
   ],
   "source": [
    "pd.read_csv(\"../../dataset/HMM/test_features.csv\")"
   ]
  },
  {
   "cell_type": "code",
   "execution_count": null,
   "metadata": {},
   "outputs": [],
   "source": []
  }
 ],
 "metadata": {
  "kernelspec": {
   "display_name": "py310_venv",
   "language": "python",
   "name": "python3"
  },
  "language_info": {
   "codemirror_mode": {
    "name": "ipython",
    "version": 3
   },
   "file_extension": ".py",
   "mimetype": "text/x-python",
   "name": "python",
   "nbconvert_exporter": "python",
   "pygments_lexer": "ipython3",
   "version": "3.10.14"
  }
 },
 "nbformat": 4,
 "nbformat_minor": 2
}
