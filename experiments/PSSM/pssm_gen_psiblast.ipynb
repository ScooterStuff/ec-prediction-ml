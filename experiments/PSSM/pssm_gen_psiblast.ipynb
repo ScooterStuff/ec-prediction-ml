{
 "cells": [
  {
   "cell_type": "markdown",
   "metadata": {},
   "source": [
    "# Download Blast+ (contains psi-blast) to compute PSSM"
   ]
  },
  {
   "cell_type": "code",
   "execution_count": 15,
   "metadata": {},
   "outputs": [
    {
     "name": "stdout",
     "output_type": "stream",
     "text": [
      "--2025-03-05 17:38:25--  https://ftp.ncbi.nlm.nih.gov/blast/executables/blast+/LATEST/ncbi-blast-2.16.0+-x64-linux.tar.gz\n",
      "Resolving ftp.ncbi.nlm.nih.gov (ftp.ncbi.nlm.nih.gov)... 130.14.250.12, 130.14.250.13, 130.14.250.31, ...\n",
      "Connecting to ftp.ncbi.nlm.nih.gov (ftp.ncbi.nlm.nih.gov)|130.14.250.12|:443... connected.\n",
      "HTTP request sent, awaiting response... 200 OK\n",
      "Length: 257516053 (246M) [application/x-gzip]\n",
      "Saving to: ‘ncbi-blast-2.16.0+-x64-linux.tar.gz’\n",
      "\n",
      "ncbi-blast-2.16.0+- 100%[===================>] 245.59M  12.3MB/s    in 35s     \n",
      "\n",
      "2025-03-05 17:39:00 (7.09 MB/s) - ‘ncbi-blast-2.16.0+-x64-linux.tar.gz’ saved [257516053/257516053]\n",
      "\n"
     ]
    }
   ],
   "source": [
    "!wget https://ftp.ncbi.nlm.nih.gov/blast/executables/blast+/LATEST/ncbi-blast-2.16.0+-x64-linux.tar.gz"
   ]
  },
  {
   "cell_type": "code",
   "execution_count": 16,
   "metadata": {},
   "outputs": [
    {
     "name": "stdout",
     "output_type": "stream",
     "text": [
      "ncbi-blast-2.16.0+/\n",
      "ncbi-blast-2.16.0+/ChangeLog\n",
      "ncbi-blast-2.16.0+/bin/\n",
      "ncbi-blast-2.16.0+/bin/rpsblast\n",
      "ncbi-blast-2.16.0+/bin/blastn_vdb\n",
      "ncbi-blast-2.16.0+/bin/blast_vdb_cmd\n",
      "ncbi-blast-2.16.0+/bin/makeprofiledb\n",
      "ncbi-blast-2.16.0+/bin/blastp\n",
      "ncbi-blast-2.16.0+/bin/deltablast\n",
      "ncbi-blast-2.16.0+/bin/blastx\n",
      "ncbi-blast-2.16.0+/bin/rpstblastn\n",
      "ncbi-blast-2.16.0+/bin/psiblast\n",
      "ncbi-blast-2.16.0+/bin/tblastx\n",
      "ncbi-blast-2.16.0+/bin/tblastn_vdb\n",
      "ncbi-blast-2.16.0+/bin/blast_formatter_vdb\n",
      "ncbi-blast-2.16.0+/bin/segmasker\n",
      "ncbi-blast-2.16.0+/bin/convert2blastmask\n",
      "ncbi-blast-2.16.0+/bin/blastdbcmd\n",
      "ncbi-blast-2.16.0+/bin/get_species_taxids.sh\n",
      "ncbi-blast-2.16.0+/bin/dustmasker\n",
      "ncbi-blast-2.16.0+/bin/cleanup-blastdb-volumes.py\n",
      "ncbi-blast-2.16.0+/bin/blastn\n",
      "ncbi-blast-2.16.0+/bin/windowmasker\n",
      "ncbi-blast-2.16.0+/bin/makeblastdb\n",
      "ncbi-blast-2.16.0+/bin/blastdb_aliastool\n",
      "ncbi-blast-2.16.0+/bin/update_blastdb.pl\n",
      "ncbi-blast-2.16.0+/bin/makembindex\n",
      "ncbi-blast-2.16.0+/bin/blast_formatter\n",
      "ncbi-blast-2.16.0+/bin/legacy_blast.pl\n",
      "ncbi-blast-2.16.0+/bin/blastdbcheck\n",
      "ncbi-blast-2.16.0+/bin/tblastn\n",
      "ncbi-blast-2.16.0+/LICENSE\n",
      "ncbi-blast-2.16.0+/BLAST_PRIVACY\n",
      "ncbi-blast-2.16.0+/ncbi_package_info\n",
      "ncbi-blast-2.16.0+/README\n",
      "ncbi-blast-2.16.0+/doc/\n",
      "ncbi-blast-2.16.0+/doc/README.txt\n"
     ]
    }
   ],
   "source": [
    "!tar -zxvf ncbi-blast-2.16.0+-x64-linux.tar.gz\n",
    "!rm ncbi-blast-2.16.0+-x64-linux.tar.gz"
   ]
  },
  {
   "cell_type": "markdown",
   "metadata": {},
   "source": [
    "# Unzip Database file (Uniref90) and use psiblast to compute PSSM"
   ]
  },
  {
   "cell_type": "code",
   "execution_count": null,
   "metadata": {},
   "outputs": [],
   "source": [
    "!gunzip ../../dataset/dimond_db/uniref90.fasta.gz"
   ]
  },
  {
   "cell_type": "code",
   "execution_count": null,
   "metadata": {},
   "outputs": [],
   "source": [
    "!ncbi-blast-2.16.0+/bin/makeblastdb -in ../../dataset/dimond_db/uniref90.fasta -dbtype prot -out ../../dataset/dimond_db/psiblastDB"
   ]
  },
  {
   "cell_type": "code",
   "execution_count": 1,
   "metadata": {},
   "outputs": [
    {
     "name": "stdout",
     "output_type": "stream",
     "text": [
      "psiblastDB.00.phr  psiblastDB.07.phr  psiblastDB.14.phr  psiblastDB.21.phr\n",
      "psiblastDB.00.pin  psiblastDB.07.pin  psiblastDB.14.pin  psiblastDB.21.pin\n",
      "psiblastDB.00.psq  psiblastDB.07.psq  psiblastDB.14.psq  psiblastDB.21.psq\n",
      "psiblastDB.01.phr  psiblastDB.08.phr  psiblastDB.15.phr  psiblastDB.22.phr\n",
      "psiblastDB.01.pin  psiblastDB.08.pin  psiblastDB.15.pin  psiblastDB.22.pin\n",
      "psiblastDB.01.psq  psiblastDB.08.psq  psiblastDB.15.psq  psiblastDB.22.psq\n",
      "psiblastDB.02.phr  psiblastDB.09.phr  psiblastDB.16.phr  psiblastDB.23.phr\n",
      "psiblastDB.02.pin  psiblastDB.09.pin  psiblastDB.16.pin  psiblastDB.23.pin\n",
      "psiblastDB.02.psq  psiblastDB.09.psq  psiblastDB.16.psq  psiblastDB.23.psq\n",
      "psiblastDB.03.phr  psiblastDB.10.phr  psiblastDB.17.phr  psiblastDB.24.phr\n",
      "psiblastDB.03.pin  psiblastDB.10.pin  psiblastDB.17.pin  psiblastDB.24.pin\n",
      "psiblastDB.03.psq  psiblastDB.10.psq  psiblastDB.17.psq  psiblastDB.24.psq\n",
      "psiblastDB.04.phr  psiblastDB.11.phr  psiblastDB.18.phr  psiblastDB.pal\n",
      "psiblastDB.04.pin  psiblastDB.11.pin  psiblastDB.18.pin  psiblastDB.pdb\n",
      "psiblastDB.04.psq  psiblastDB.11.psq  psiblastDB.18.psq  psiblastDB.pjs\n",
      "psiblastDB.05.phr  psiblastDB.12.phr  psiblastDB.19.phr  psiblastDB.pot\n",
      "psiblastDB.05.pin  psiblastDB.12.pin  psiblastDB.19.pin  psiblastDB.ptf\n",
      "psiblastDB.05.psq  psiblastDB.12.psq  psiblastDB.19.psq  psiblastDB.pto\n",
      "psiblastDB.06.phr  psiblastDB.13.phr  psiblastDB.20.phr  uniref90.fasta\n",
      "psiblastDB.06.pin  psiblastDB.13.pin  psiblastDB.20.pin\n",
      "psiblastDB.06.psq  psiblastDB.13.psq  psiblastDB.20.psq\n"
     ]
    }
   ],
   "source": [
    "!ls ../../dataset/dimond_db/"
   ]
  },
  {
   "cell_type": "markdown",
   "metadata": {},
   "source": [
    "### Train PSSM"
   ]
  },
  {
   "cell_type": "code",
   "execution_count": null,
   "metadata": {},
   "outputs": [],
   "source": [
    "!ncbi-blast-2.16.0+/bin/psiblast \\\n",
    "    -query ../../dataset/ec40/train.fasta \\\n",
    "    -db ../../dataset/dimond_db/psiblastDB \\\n",
    "    -num_iterations 3 \\\n",
    "    -out_ascii_pssm ../../dataset/pssm/trian.pssm \\\n",
    "    -out ../../dataset/pssm/psiblast_train.out"
   ]
  },
  {
   "cell_type": "markdown",
   "metadata": {},
   "source": [
    "### Validation PSSM"
   ]
  },
  {
   "cell_type": "code",
   "execution_count": null,
   "metadata": {},
   "outputs": [],
   "source": [
    "!ncbi-blast-2.16.0+/bin/psiblast \\\n",
    "    -query ../../dataset/ec40/valid.fasta \\\n",
    "    -db ../../dataset/dimond_db/psiblastDB \\\n",
    "    -num_iterations 3 \\\n",
    "    -out_ascii_pssm ../../dataset/pssm/valid.pssm \\\n",
    "    -out ../../dataset/pssm/psiblast_valid.out"
   ]
  },
  {
   "cell_type": "markdown",
   "metadata": {},
   "source": [
    "### Test PSSM"
   ]
  },
  {
   "cell_type": "code",
   "execution_count": null,
   "metadata": {},
   "outputs": [],
   "source": [
    "!ncbi-blast-2.16.0+/bin/psiblast \\\n",
    "    -query ../../dataset/ec40/test.fasta \\\n",
    "    -db ../../dataset/dimond_db/psiblastDB \\\n",
    "    -num_iterations 3 \\\n",
    "    -out_ascii_pssm ../../dataset/pssm/test.pssm \\\n",
    "    -out ../../dataset/pssm/psiblast_test.out"
   ]
  }
 ],
 "metadata": {
  "kernelspec": {
   "display_name": "py310_venv",
   "language": "python",
   "name": "python3"
  },
  "language_info": {
   "codemirror_mode": {
    "name": "ipython",
    "version": 3
   },
   "file_extension": ".py",
   "mimetype": "text/x-python",
   "name": "python",
   "nbconvert_exporter": "python",
   "pygments_lexer": "ipython3",
   "version": "3.10.14"
  }
 },
 "nbformat": 4,
 "nbformat_minor": 2
}
