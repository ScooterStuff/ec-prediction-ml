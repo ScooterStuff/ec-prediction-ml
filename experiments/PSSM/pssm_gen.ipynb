{
 "cells": [
  {
   "cell_type": "markdown",
   "metadata": {},
   "source": [
    "# Download Blast+ (contains psi-blast) to compute PSSM"
   ]
  },
  {
   "cell_type": "code",
   "execution_count": 15,
   "metadata": {},
   "outputs": [
    {
     "name": "stdout",
     "output_type": "stream",
     "text": [
      "--2025-03-05 17:38:25--  https://ftp.ncbi.nlm.nih.gov/blast/executables/blast+/LATEST/ncbi-blast-2.16.0+-x64-linux.tar.gz\n",
      "Resolving ftp.ncbi.nlm.nih.gov (ftp.ncbi.nlm.nih.gov)... 130.14.250.12, 130.14.250.13, 130.14.250.31, ...\n",
      "Connecting to ftp.ncbi.nlm.nih.gov (ftp.ncbi.nlm.nih.gov)|130.14.250.12|:443... connected.\n",
      "HTTP request sent, awaiting response... 200 OK\n",
      "Length: 257516053 (246M) [application/x-gzip]\n",
      "Saving to: ‘ncbi-blast-2.16.0+-x64-linux.tar.gz’\n",
      "\n",
      "ncbi-blast-2.16.0+- 100%[===================>] 245.59M  12.3MB/s    in 35s     \n",
      "\n",
      "2025-03-05 17:39:00 (7.09 MB/s) - ‘ncbi-blast-2.16.0+-x64-linux.tar.gz’ saved [257516053/257516053]\n",
      "\n"
     ]
    }
   ],
   "source": [
    "!wget https://ftp.ncbi.nlm.nih.gov/blast/executables/blast+/LATEST/ncbi-blast-2.16.0+-x64-linux.tar.gz"
   ]
  },
  {
   "cell_type": "code",
   "execution_count": 16,
   "metadata": {},
   "outputs": [
    {
     "name": "stdout",
     "output_type": "stream",
     "text": [
      "ncbi-blast-2.16.0+/\n",
      "ncbi-blast-2.16.0+/ChangeLog\n",
      "ncbi-blast-2.16.0+/bin/\n",
      "ncbi-blast-2.16.0+/bin/rpsblast\n",
      "ncbi-blast-2.16.0+/bin/blastn_vdb\n",
      "ncbi-blast-2.16.0+/bin/blast_vdb_cmd\n",
      "ncbi-blast-2.16.0+/bin/makeprofiledb\n",
      "ncbi-blast-2.16.0+/bin/blastp\n",
      "ncbi-blast-2.16.0+/bin/deltablast\n",
      "ncbi-blast-2.16.0+/bin/blastx\n",
      "ncbi-blast-2.16.0+/bin/rpstblastn\n",
      "ncbi-blast-2.16.0+/bin/psiblast\n",
      "ncbi-blast-2.16.0+/bin/tblastx\n",
      "ncbi-blast-2.16.0+/bin/tblastn_vdb\n",
      "ncbi-blast-2.16.0+/bin/blast_formatter_vdb\n",
      "ncbi-blast-2.16.0+/bin/segmasker\n",
      "ncbi-blast-2.16.0+/bin/convert2blastmask\n",
      "ncbi-blast-2.16.0+/bin/blastdbcmd\n",
      "ncbi-blast-2.16.0+/bin/get_species_taxids.sh\n",
      "ncbi-blast-2.16.0+/bin/dustmasker\n",
      "ncbi-blast-2.16.0+/bin/cleanup-blastdb-volumes.py\n",
      "ncbi-blast-2.16.0+/bin/blastn\n",
      "ncbi-blast-2.16.0+/bin/windowmasker\n",
      "ncbi-blast-2.16.0+/bin/makeblastdb\n",
      "ncbi-blast-2.16.0+/bin/blastdb_aliastool\n",
      "ncbi-blast-2.16.0+/bin/update_blastdb.pl\n",
      "ncbi-blast-2.16.0+/bin/makembindex\n",
      "ncbi-blast-2.16.0+/bin/blast_formatter\n",
      "ncbi-blast-2.16.0+/bin/legacy_blast.pl\n",
      "ncbi-blast-2.16.0+/bin/blastdbcheck\n",
      "ncbi-blast-2.16.0+/bin/tblastn\n",
      "ncbi-blast-2.16.0+/LICENSE\n",
      "ncbi-blast-2.16.0+/BLAST_PRIVACY\n",
      "ncbi-blast-2.16.0+/ncbi_package_info\n",
      "ncbi-blast-2.16.0+/README\n",
      "ncbi-blast-2.16.0+/doc/\n",
      "ncbi-blast-2.16.0+/doc/README.txt\n"
     ]
    }
   ],
   "source": [
    "!tar -zxvf ncbi-blast-2.16.0+-x64-linux.tar.gz\n",
    "!rm ncbi-blast-2.16.0+-x64-linux.tar.gz"
   ]
  },
  {
   "cell_type": "code",
   "execution_count": null,
   "metadata": {},
   "outputs": [],
   "source": [
    "!gunzip ../../dataset/dimond_db/uniref90.fasta.gz"
   ]
  },
  {
   "cell_type": "code",
   "execution_count": 26,
   "metadata": {},
   "outputs": [
    {
     "name": "stdout",
     "output_type": "stream",
     "text": [
      "\n",
      "\n",
      "Building a new DB, current time: 03/05/2025 18:28:01\n",
      "New DB name:   /cs/student/projects1/2022/yulinche/ec-prediction-ml/dataset/dimond_db/psiblastDB\n",
      "New DB title:  ../../dataset/dimond_db/uniref90.fasta\n",
      "Sequence type: Protein\n",
      "Keep MBits: T\n",
      "Maximum file size: 3000000000B\n",
      "\n",
      "\n",
      "^C\n"
     ]
    }
   ],
   "source": [
    "!ncbi-blast-2.16.0+/bin/makeblastdb -in ../../dataset/dimond_db/uniref90.fasta -dbtype prot -out ../../dataset/dimond_db/psiblastDB"
   ]
  },
  {
   "cell_type": "code",
   "execution_count": null,
   "metadata": {},
   "outputs": [
    {
     "name": "stdout",
     "output_type": "stream",
     "text": [
      "psiblast: Command not found.\n"
     ]
    }
   ],
   "source": [
    "!ncbi-blast-2.16.0+/bin/psiblast \\\n",
    "    -query ../../dataset/ec40/train.fasta \\\n",
    "    -db /path/to/nr \\\n",
    "    -num_iterations 3 \\\n",
    "    -out_ascii_pssm output.pssm \\\n",
    "    -out psiblast.out"
   ]
  },
  {
   "cell_type": "code",
   "execution_count": null,
   "metadata": {},
   "outputs": [],
   "source": []
  }
 ],
 "metadata": {
  "kernelspec": {
   "display_name": "py310_venv",
   "language": "python",
   "name": "python3"
  },
  "language_info": {
   "codemirror_mode": {
    "name": "ipython",
    "version": 3
   },
   "file_extension": ".py",
   "mimetype": "text/x-python",
   "name": "python",
   "nbconvert_exporter": "python",
   "pygments_lexer": "ipython3",
   "version": "3.10.14"
  }
 },
 "nbformat": 4,
 "nbformat_minor": 2
}
