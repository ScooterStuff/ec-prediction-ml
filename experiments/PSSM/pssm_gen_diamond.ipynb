{
 "cells": [
  {
   "cell_type": "markdown",
   "metadata": {},
   "source": [
    "# Download Blast+ (contains psi-blast) to compute PSSM"
   ]
  },
  {
   "cell_type": "code",
   "execution_count": 15,
   "metadata": {},
   "outputs": [
    {
     "name": "stdout",
     "output_type": "stream",
     "text": [
      "--2025-03-05 17:38:25--  https://ftp.ncbi.nlm.nih.gov/blast/executables/blast+/LATEST/ncbi-blast-2.16.0+-x64-linux.tar.gz\n",
      "Resolving ftp.ncbi.nlm.nih.gov (ftp.ncbi.nlm.nih.gov)... 130.14.250.12, 130.14.250.13, 130.14.250.31, ...\n",
      "Connecting to ftp.ncbi.nlm.nih.gov (ftp.ncbi.nlm.nih.gov)|130.14.250.12|:443... connected.\n",
      "HTTP request sent, awaiting response... 200 OK\n",
      "Length: 257516053 (246M) [application/x-gzip]\n",
      "Saving to: ‘ncbi-blast-2.16.0+-x64-linux.tar.gz’\n",
      "\n",
      "ncbi-blast-2.16.0+- 100%[===================>] 245.59M  12.3MB/s    in 35s     \n",
      "\n",
      "2025-03-05 17:39:00 (7.09 MB/s) - ‘ncbi-blast-2.16.0+-x64-linux.tar.gz’ saved [257516053/257516053]\n",
      "\n"
     ]
    }
   ],
   "source": [
    "!wget https://ftp.ncbi.nlm.nih.gov/blast/executables/blast+/LATEST/ncbi-blast-2.16.0+-x64-linux.tar.gz"
   ]
  },
  {
   "cell_type": "code",
   "execution_count": 16,
   "metadata": {},
   "outputs": [
    {
     "name": "stdout",
     "output_type": "stream",
     "text": [
      "ncbi-blast-2.16.0+/\n",
      "ncbi-blast-2.16.0+/ChangeLog\n",
      "ncbi-blast-2.16.0+/bin/\n",
      "ncbi-blast-2.16.0+/bin/rpsblast\n",
      "ncbi-blast-2.16.0+/bin/blastn_vdb\n",
      "ncbi-blast-2.16.0+/bin/blast_vdb_cmd\n",
      "ncbi-blast-2.16.0+/bin/makeprofiledb\n",
      "ncbi-blast-2.16.0+/bin/blastp\n",
      "ncbi-blast-2.16.0+/bin/deltablast\n",
      "ncbi-blast-2.16.0+/bin/blastx\n",
      "ncbi-blast-2.16.0+/bin/rpstblastn\n",
      "ncbi-blast-2.16.0+/bin/psiblast\n",
      "ncbi-blast-2.16.0+/bin/tblastx\n",
      "ncbi-blast-2.16.0+/bin/tblastn_vdb\n",
      "ncbi-blast-2.16.0+/bin/blast_formatter_vdb\n",
      "ncbi-blast-2.16.0+/bin/segmasker\n",
      "ncbi-blast-2.16.0+/bin/convert2blastmask\n",
      "ncbi-blast-2.16.0+/bin/blastdbcmd\n",
      "ncbi-blast-2.16.0+/bin/get_species_taxids.sh\n",
      "ncbi-blast-2.16.0+/bin/dustmasker\n",
      "ncbi-blast-2.16.0+/bin/cleanup-blastdb-volumes.py\n",
      "ncbi-blast-2.16.0+/bin/blastn\n",
      "ncbi-blast-2.16.0+/bin/windowmasker\n",
      "ncbi-blast-2.16.0+/bin/makeblastdb\n",
      "ncbi-blast-2.16.0+/bin/blastdb_aliastool\n",
      "ncbi-blast-2.16.0+/bin/update_blastdb.pl\n",
      "ncbi-blast-2.16.0+/bin/makembindex\n",
      "ncbi-blast-2.16.0+/bin/blast_formatter\n",
      "ncbi-blast-2.16.0+/bin/legacy_blast.pl\n",
      "ncbi-blast-2.16.0+/bin/blastdbcheck\n",
      "ncbi-blast-2.16.0+/bin/tblastn\n",
      "ncbi-blast-2.16.0+/LICENSE\n",
      "ncbi-blast-2.16.0+/BLAST_PRIVACY\n",
      "ncbi-blast-2.16.0+/ncbi_package_info\n",
      "ncbi-blast-2.16.0+/README\n",
      "ncbi-blast-2.16.0+/doc/\n",
      "ncbi-blast-2.16.0+/doc/README.txt\n"
     ]
    }
   ],
   "source": [
    "!tar -zxvf ncbi-blast-2.16.0+-x64-linux.tar.gz\n",
    "!rm ncbi-blast-2.16.0+-x64-linux.tar.gz"
   ]
  },
  {
   "cell_type": "markdown",
   "metadata": {},
   "source": [
    "## Download Seqtk to fetch sequences from diamond database"
   ]
  },
  {
   "cell_type": "code",
   "execution_count": null,
   "metadata": {},
   "outputs": [],
   "source": [
    "!git clone https://github.com/lh3/seqtk.git\n",
    "%cd seqtk\n",
    "!make\n",
    "!cd .."
   ]
  },
  {
   "cell_type": "markdown",
   "metadata": {},
   "source": [
    "## Filtered Diamond Output with E-value $1 \\times 10^{-5}$"
   ]
  },
  {
   "cell_type": "code",
   "execution_count": 1,
   "metadata": {},
   "outputs": [],
   "source": [
    "!awk '$11 < 1e-5 {print $2}' ../../dataset/diamond_results/test_diamond_output.m8 | sort -u > ../../dataset/pssm/test_subject_ids.txt"
   ]
  },
  {
   "cell_type": "code",
   "execution_count": 2,
   "metadata": {},
   "outputs": [],
   "source": [
    "!awk '$11 < 1e-5 {print $2}' ../../dataset/diamond_results/valid_diamond_output.m8 | sort -u > ../../dataset/pssm/valid_subject_ids.txt"
   ]
  },
  {
   "cell_type": "code",
   "execution_count": 3,
   "metadata": {},
   "outputs": [],
   "source": [
    "!awk '$11 < 1e-5 {print $2}' ../../dataset/diamond_results/train_diamond_output.m8 | sort -u > ../../dataset/pssm/train_subject_ids.txt"
   ]
  },
  {
   "cell_type": "code",
   "execution_count": null,
   "metadata": {},
   "outputs": [],
   "source": [
    "!seqtk/seqtk subseq ../../dataset/dimond_db/uniref90.fasta ../../dataset/pssm/test_subject_ids.txt > ../../dataset/pssm/test_filtered_seqs.fasta"
   ]
  },
  {
   "cell_type": "code",
   "execution_count": null,
   "metadata": {},
   "outputs": [],
   "source": [
    "!seqtk/seqtk subseq ../../dataset/dimond_db/uniref90.fasta ../../dataset/pssm/valid_subject_ids.txt > ../../dataset/pssm/valid_filtered_seqs.fasta"
   ]
  },
  {
   "cell_type": "code",
   "execution_count": null,
   "metadata": {},
   "outputs": [],
   "source": [
    "!seqtk/seqtk subseq ../../dataset/dimond_db/uniref90.fasta ../../dataset/pssm/train_subject_ids.txt > ../../dataset/pssm/train_filtered_seqs.fasta"
   ]
  },
  {
   "cell_type": "markdown",
   "metadata": {},
   "source": [
    "## Make diamond output a Blast Database"
   ]
  },
  {
   "cell_type": "code",
   "execution_count": null,
   "metadata": {},
   "outputs": [],
   "source": [
    "!ncbi-blast-2.16.0+/bin/makeblastdb -in ../../dataset/pssm/test_filtered_seqs.fasta -dbtype prot -out ../../dataset/pssm/test_db"
   ]
  },
  {
   "cell_type": "code",
   "execution_count": null,
   "metadata": {},
   "outputs": [],
   "source": [
    "!ncbi-blast-2.16.0+/bin/makeblastdb -in ../../dataset/pssm/valid_filtered_seqs.fasta -dbtype prot -out ../../dataset/pssm/valid_db"
   ]
  },
  {
   "cell_type": "code",
   "execution_count": null,
   "metadata": {},
   "outputs": [],
   "source": [
    "!ncbi-blast-2.16.0+/bin/makeblastdb -in ../../dataset/pssm/train_filtered_seqs.fasta -dbtype prot -out ../../dataset/pssm/train_db"
   ]
  },
  {
   "cell_type": "markdown",
   "metadata": {},
   "source": [
    "## Calculate PSSM"
   ]
  },
  {
   "cell_type": "markdown",
   "metadata": {},
   "source": [
    "### valid"
   ]
  },
  {
   "cell_type": "code",
   "execution_count": 10,
   "metadata": {},
   "outputs": [],
   "source": [
    "!mkdir -p ../../dataset/pssm/valid_batch_pssms\n",
    "!mkdir -p valid_tmp_seqs"
   ]
  },
  {
   "cell_type": "code",
   "execution_count": null,
   "metadata": {},
   "outputs": [],
   "source": [
    "!awk '/^>/ {file=\"valid_tmp_seqs/\"substr($1,2)\".fasta\"; print > file; next;} {print >> file;}' ../../dataset/ec40/valid.fasta"
   ]
  },
  {
   "cell_type": "code",
   "execution_count": null,
   "metadata": {},
   "outputs": [],
   "source": [
    "!find valid_tmp_seqs -name \"*.fasta\" | xargs -P 24 -I {} sh -c 'base=$(basename {} .fasta); ncbi-blast-2.16.0+/bin/psiblast -query {} -db ../../dataset/pssm/valid_db -num_iterations 1 -out_ascii_pssm \"../../dataset/pssm/valid_batch_pssms/$base.pssm\" -save_pssm_after_last_round'"
   ]
  },
  {
   "cell_type": "code",
   "execution_count": null,
   "metadata": {},
   "outputs": [],
   "source": [
    "!rm -rf valid_tmp_seqs"
   ]
  },
  {
   "cell_type": "code",
   "execution_count": 12,
   "metadata": {},
   "outputs": [
    {
     "name": "stdout",
     "output_type": "stream",
     "text": [
      "4921\n"
     ]
    }
   ],
   "source": [
    "!grep '^>' ../../dataset/ec40/valid.fasta | wc -l"
   ]
  },
  {
   "cell_type": "code",
   "execution_count": 11,
   "metadata": {},
   "outputs": [
    {
     "name": "stdout",
     "output_type": "stream",
     "text": [
      "4921\n"
     ]
    }
   ],
   "source": [
    "!ls -1 ../../dataset/pssm/valid_batch_pssms | wc -l"
   ]
  },
  {
   "cell_type": "markdown",
   "metadata": {},
   "source": [
    "### test"
   ]
  },
  {
   "cell_type": "code",
   "execution_count": null,
   "metadata": {},
   "outputs": [],
   "source": [
    "!mkdir -p ../../dataset/pssm/test_batch_pssms\n",
    "\n",
    "!mkdir -p test_tmp_seqs"
   ]
  },
  {
   "cell_type": "code",
   "execution_count": null,
   "metadata": {},
   "outputs": [],
   "source": [
    "!awk '/^>/ {file=\"test_tmp_seqs/\"substr($1,2)\".fasta\"; print > file; next;} {print >> file;}' ../../dataset/ec40/test.fasta"
   ]
  },
  {
   "cell_type": "code",
   "execution_count": null,
   "metadata": {},
   "outputs": [],
   "source": [
    "!find test_tmp_seqs -name \"*.fasta\" | xargs -P 24 -I {} sh -c 'base=$(basename {} .fasta); ncbi-blast-2.16.0+/bin/psiblast -query {} -db ../../dataset/pssm/test_db -num_iterations 1 -out_ascii_pssm \"../../dataset/pssm/test_batch_pssms/$base.pssm\" -save_pssm_after_last_round'"
   ]
  },
  {
   "cell_type": "code",
   "execution_count": null,
   "metadata": {},
   "outputs": [],
   "source": [
    "!rm -rf test_tmp_seqs"
   ]
  },
  {
   "cell_type": "markdown",
   "metadata": {},
   "source": []
  },
  {
   "cell_type": "code",
   "execution_count": 13,
   "metadata": {},
   "outputs": [
    {
     "name": "stdout",
     "output_type": "stream",
     "text": [
      "5459\n"
     ]
    }
   ],
   "source": [
    "!grep '^>' ../../dataset/ec40/test.fasta | wc -l"
   ]
  },
  {
   "cell_type": "code",
   "execution_count": 14,
   "metadata": {},
   "outputs": [
    {
     "name": "stdout",
     "output_type": "stream",
     "text": [
      "5459\n"
     ]
    }
   ],
   "source": [
    "!ls -1 ../../dataset/pssm/test_batch_pssms | wc -l"
   ]
  },
  {
   "cell_type": "markdown",
   "metadata": {},
   "source": [
    "### train"
   ]
  },
  {
   "cell_type": "code",
   "execution_count": null,
   "metadata": {},
   "outputs": [],
   "source": [
    "!mkdir -p ../../dataset/pssm/train_batch_pssms\n",
    "!mkdir -p train_tmp_seqs\n"
   ]
  },
  {
   "cell_type": "code",
   "execution_count": null,
   "metadata": {},
   "outputs": [],
   "source": [
    "!awk '/^>/ {file=\"train_tmp_seqs/\"substr($1,2)\".fasta\"; print > file; next;} {print >> file;}' ../../dataset/ec40/train.fasta"
   ]
  },
  {
   "cell_type": "code",
   "execution_count": null,
   "metadata": {},
   "outputs": [],
   "source": [
    "!find train_tmp_seqs -name \"*.fasta\" | xargs -P 24 -I {} sh -c 'base=$(basename {} .fasta); ncbi-blast-2.16.0+/bin/psiblast -query {} -db ../../dataset/pssm/train_db -num_iterations 1 -out_ascii_pssm \"../../dataset/pssm/train_batch_pssms/$base.pssm\" -save_pssm_after_last_round'"
   ]
  },
  {
   "cell_type": "code",
   "execution_count": 3,
   "metadata": {},
   "outputs": [],
   "source": [
    "!rm -rf train_tmp_seqs"
   ]
  },
  {
   "cell_type": "code",
   "execution_count": 1,
   "metadata": {},
   "outputs": [
    {
     "name": "stdout",
     "output_type": "stream",
     "text": [
      "30967\n"
     ]
    }
   ],
   "source": [
    "!grep '^>' ../../dataset/ec40/train.fasta | wc -l"
   ]
  },
  {
   "cell_type": "code",
   "execution_count": 2,
   "metadata": {},
   "outputs": [
    {
     "name": "stdout",
     "output_type": "stream",
     "text": [
      "30967\n"
     ]
    }
   ],
   "source": [
    "!ls -1 ../../dataset/pssm/train_batch_pssms | wc -l"
   ]
  },
  {
   "cell_type": "markdown",
   "metadata": {},
   "source": [
    "### Merge features"
   ]
  },
  {
   "cell_type": "code",
   "execution_count": 16,
   "metadata": {},
   "outputs": [],
   "source": [
    "import os\n",
    "import pandas as pd\n",
    "import re\n",
    "import numpy as np\n",
    "from tqdm import tqdm\n",
    "\n",
    "def process_pssm_directory(directory_path):\n",
    "    \"\"\"\n",
    "    Process all PSSM files in a directory and return a dataframe.\n",
    "    \n",
    "    Args:\n",
    "        directory_path (str): Path to directory containing PSSM files\n",
    "        \n",
    "    Returns:\n",
    "        pd.DataFrame: DataFrame with accession IDs and PSSM matrices\n",
    "    \"\"\"\n",
    "    results = []\n",
    "    \n",
    "    # Get all .pssm files in the directory\n",
    "    pssm_files = [os.path.join(directory_path, f) for f in os.listdir(directory_path) if f.endswith('.pssm')]\n",
    "    \n",
    "    for pssm_file in tqdm(pssm_files):\n",
    "        try:\n",
    "            accession_id, pssm_matrix = pssm_file_to_nparray(pssm_file)\n",
    "            results.append({\n",
    "                'accession_id': accession_id,\n",
    "                'pssm_matrix': pssm_matrix\n",
    "            })\n",
    "        except Exception as e:\n",
    "            print(f\"Error processing {pssm_file}: {str(e)}\")\n",
    "    \n",
    "    # Create DataFrame\n",
    "    df = pd.DataFrame(results)\n",
    "    return df\n",
    "\n",
    "def pssm_file_to_nparray(pssm_path):\n",
    "\n",
    "    accession_id = os.path.basename(pssm_path).split('.')[0]\n",
    "    with open(pssm_path, 'r') as file:\n",
    "        lines = file.readlines()\n",
    "        # Skip the header lines\n",
    "        lines = lines[3:-6]\n",
    "        # Extract the PSSM values\n",
    "        pssm_values = []\n",
    "        for line in lines:\n",
    "            line_values = line.strip().split()[2:]\n",
    "            pssm_values.append([float(value) for value in line_values])\n",
    "        \n",
    "        return accession_id, np.array(pssm_values)"
   ]
  },
  {
   "cell_type": "code",
   "execution_count": null,
   "metadata": {},
   "outputs": [
    {
     "name": "stderr",
     "output_type": "stream",
     "text": [
      "  0%|          | 0/5459 [00:00<?, ?it/s]"
     ]
    },
    {
     "name": "stderr",
     "output_type": "stream",
     "text": [
      "100%|██████████| 5459/5459 [02:24<00:00, 37.90it/s] \n"
     ]
    }
   ],
   "source": [
    "test_path = \"../../dataset/pssm/test_batch_pssms\"\n",
    "pssm_df = process_pssm_directory(test_path)\n",
    "pssm_df.to_csv(\"../../dataset/pssm/test_pssms.csv\", index=False)"
   ]
  },
  {
   "cell_type": "code",
   "execution_count": 19,
   "metadata": {},
   "outputs": [
    {
     "name": "stderr",
     "output_type": "stream",
     "text": [
      "100%|██████████| 4921/4921 [00:10<00:00, 469.46it/s]\n"
     ]
    }
   ],
   "source": [
    "valid_path = \"../../dataset/pssm/valid_batch_pssms\"\n",
    "pssm_df = process_pssm_directory(valid_path)\n",
    "pssm_df.to_csv(\"../../dataset/pssm/valid_pssms.csv\", index=False)"
   ]
  },
  {
   "cell_type": "code",
   "execution_count": 20,
   "metadata": {},
   "outputs": [
    {
     "name": "stderr",
     "output_type": "stream",
     "text": [
      "100%|██████████| 30967/30967 [13:31<00:00, 38.16it/s]  \n"
     ]
    }
   ],
   "source": [
    "train_path = \"../../dataset/pssm/train_batch_pssms\"\n",
    "pssm_df = process_pssm_directory(train_path)\n",
    "pssm_df.to_csv(\"../../dataset/pssm/train_pssms.csv\", index=False)"
   ]
  },
  {
   "cell_type": "code",
   "execution_count": null,
   "metadata": {},
   "outputs": [],
   "source": []
  }
 ],
 "metadata": {
  "kernelspec": {
   "display_name": "py310_venv",
   "language": "python",
   "name": "python3"
  },
  "language_info": {
   "codemirror_mode": {
    "name": "ipython",
    "version": 3
   },
   "file_extension": ".py",
   "mimetype": "text/x-python",
   "name": "python",
   "nbconvert_exporter": "python",
   "pygments_lexer": "ipython3",
   "version": "3.10.14"
  }
 },
 "nbformat": 4,
 "nbformat_minor": 2
}
